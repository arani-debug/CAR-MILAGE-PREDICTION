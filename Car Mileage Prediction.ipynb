{
 "cells": [
  {
   "cell_type": "code",
   "execution_count": 1,
   "id": "e733251b",
   "metadata": {},
   "outputs": [],
   "source": [
    "import numpy as np\n",
    "import pandas as pd\n",
    "import matplotlib.pyplot as plt\n",
    "import seaborn as sns"
   ]
  },
  {
   "cell_type": "code",
   "execution_count": 2,
   "id": "886e9a77-64b9-4def-98a3-1a03e5a7e984",
   "metadata": {},
   "outputs": [],
   "source": [
    "import warnings\n",
    "warnings.filterwarnings(\"ignore\")\n"
   ]
  },
  {
   "cell_type": "code",
   "execution_count": 3,
   "id": "9ae9fda7",
   "metadata": {},
   "outputs": [],
   "source": [
    "mpg = sns.load_dataset(\"mpg\")"
   ]
  },
  {
   "cell_type": "code",
   "execution_count": 4,
   "id": "0fdf5100",
   "metadata": {},
   "outputs": [
    {
     "data": {
      "text/html": [
       "<div>\n",
       "<style scoped>\n",
       "    .dataframe tbody tr th:only-of-type {\n",
       "        vertical-align: middle;\n",
       "    }\n",
       "\n",
       "    .dataframe tbody tr th {\n",
       "        vertical-align: top;\n",
       "    }\n",
       "\n",
       "    .dataframe thead th {\n",
       "        text-align: right;\n",
       "    }\n",
       "</style>\n",
       "<table border=\"1\" class=\"dataframe\">\n",
       "  <thead>\n",
       "    <tr style=\"text-align: right;\">\n",
       "      <th></th>\n",
       "      <th>mpg</th>\n",
       "      <th>cylinders</th>\n",
       "      <th>displacement</th>\n",
       "      <th>horsepower</th>\n",
       "      <th>weight</th>\n",
       "      <th>acceleration</th>\n",
       "      <th>model_year</th>\n",
       "      <th>origin</th>\n",
       "      <th>name</th>\n",
       "    </tr>\n",
       "  </thead>\n",
       "  <tbody>\n",
       "    <tr>\n",
       "      <th>0</th>\n",
       "      <td>18.0</td>\n",
       "      <td>8</td>\n",
       "      <td>307.0</td>\n",
       "      <td>130.0</td>\n",
       "      <td>3504</td>\n",
       "      <td>12.0</td>\n",
       "      <td>70</td>\n",
       "      <td>usa</td>\n",
       "      <td>chevrolet chevelle malibu</td>\n",
       "    </tr>\n",
       "    <tr>\n",
       "      <th>1</th>\n",
       "      <td>15.0</td>\n",
       "      <td>8</td>\n",
       "      <td>350.0</td>\n",
       "      <td>165.0</td>\n",
       "      <td>3693</td>\n",
       "      <td>11.5</td>\n",
       "      <td>70</td>\n",
       "      <td>usa</td>\n",
       "      <td>buick skylark 320</td>\n",
       "    </tr>\n",
       "    <tr>\n",
       "      <th>2</th>\n",
       "      <td>18.0</td>\n",
       "      <td>8</td>\n",
       "      <td>318.0</td>\n",
       "      <td>150.0</td>\n",
       "      <td>3436</td>\n",
       "      <td>11.0</td>\n",
       "      <td>70</td>\n",
       "      <td>usa</td>\n",
       "      <td>plymouth satellite</td>\n",
       "    </tr>\n",
       "    <tr>\n",
       "      <th>3</th>\n",
       "      <td>16.0</td>\n",
       "      <td>8</td>\n",
       "      <td>304.0</td>\n",
       "      <td>150.0</td>\n",
       "      <td>3433</td>\n",
       "      <td>12.0</td>\n",
       "      <td>70</td>\n",
       "      <td>usa</td>\n",
       "      <td>amc rebel sst</td>\n",
       "    </tr>\n",
       "    <tr>\n",
       "      <th>4</th>\n",
       "      <td>17.0</td>\n",
       "      <td>8</td>\n",
       "      <td>302.0</td>\n",
       "      <td>140.0</td>\n",
       "      <td>3449</td>\n",
       "      <td>10.5</td>\n",
       "      <td>70</td>\n",
       "      <td>usa</td>\n",
       "      <td>ford torino</td>\n",
       "    </tr>\n",
       "  </tbody>\n",
       "</table>\n",
       "</div>"
      ],
      "text/plain": [
       "    mpg  cylinders  displacement  horsepower  weight  acceleration  \\\n",
       "0  18.0          8         307.0       130.0    3504          12.0   \n",
       "1  15.0          8         350.0       165.0    3693          11.5   \n",
       "2  18.0          8         318.0       150.0    3436          11.0   \n",
       "3  16.0          8         304.0       150.0    3433          12.0   \n",
       "4  17.0          8         302.0       140.0    3449          10.5   \n",
       "\n",
       "   model_year origin                       name  \n",
       "0          70    usa  chevrolet chevelle malibu  \n",
       "1          70    usa          buick skylark 320  \n",
       "2          70    usa         plymouth satellite  \n",
       "3          70    usa              amc rebel sst  \n",
       "4          70    usa                ford torino  "
      ]
     },
     "execution_count": 4,
     "metadata": {},
     "output_type": "execute_result"
    }
   ],
   "source": [
    "mpg.head()"
   ]
  },
  {
   "cell_type": "code",
   "execution_count": 5,
   "id": "57bba93c",
   "metadata": {},
   "outputs": [],
   "source": [
    "X = mpg.drop(\"mpg\",axis = 1)\n",
    "Y = mpg[\"mpg\"]"
   ]
  },
  {
   "cell_type": "code",
   "execution_count": 6,
   "id": "7d8f10c5",
   "metadata": {},
   "outputs": [
    {
     "data": {
      "text/html": [
       "<div>\n",
       "<style scoped>\n",
       "    .dataframe tbody tr th:only-of-type {\n",
       "        vertical-align: middle;\n",
       "    }\n",
       "\n",
       "    .dataframe tbody tr th {\n",
       "        vertical-align: top;\n",
       "    }\n",
       "\n",
       "    .dataframe thead th {\n",
       "        text-align: right;\n",
       "    }\n",
       "</style>\n",
       "<table border=\"1\" class=\"dataframe\">\n",
       "  <thead>\n",
       "    <tr style=\"text-align: right;\">\n",
       "      <th></th>\n",
       "      <th>cylinders</th>\n",
       "      <th>displacement</th>\n",
       "      <th>horsepower</th>\n",
       "      <th>weight</th>\n",
       "      <th>acceleration</th>\n",
       "      <th>model_year</th>\n",
       "      <th>origin</th>\n",
       "      <th>name</th>\n",
       "    </tr>\n",
       "  </thead>\n",
       "  <tbody>\n",
       "    <tr>\n",
       "      <th>0</th>\n",
       "      <td>8</td>\n",
       "      <td>307.0</td>\n",
       "      <td>130.0</td>\n",
       "      <td>3504</td>\n",
       "      <td>12.0</td>\n",
       "      <td>70</td>\n",
       "      <td>usa</td>\n",
       "      <td>chevrolet chevelle malibu</td>\n",
       "    </tr>\n",
       "    <tr>\n",
       "      <th>1</th>\n",
       "      <td>8</td>\n",
       "      <td>350.0</td>\n",
       "      <td>165.0</td>\n",
       "      <td>3693</td>\n",
       "      <td>11.5</td>\n",
       "      <td>70</td>\n",
       "      <td>usa</td>\n",
       "      <td>buick skylark 320</td>\n",
       "    </tr>\n",
       "    <tr>\n",
       "      <th>2</th>\n",
       "      <td>8</td>\n",
       "      <td>318.0</td>\n",
       "      <td>150.0</td>\n",
       "      <td>3436</td>\n",
       "      <td>11.0</td>\n",
       "      <td>70</td>\n",
       "      <td>usa</td>\n",
       "      <td>plymouth satellite</td>\n",
       "    </tr>\n",
       "    <tr>\n",
       "      <th>3</th>\n",
       "      <td>8</td>\n",
       "      <td>304.0</td>\n",
       "      <td>150.0</td>\n",
       "      <td>3433</td>\n",
       "      <td>12.0</td>\n",
       "      <td>70</td>\n",
       "      <td>usa</td>\n",
       "      <td>amc rebel sst</td>\n",
       "    </tr>\n",
       "    <tr>\n",
       "      <th>4</th>\n",
       "      <td>8</td>\n",
       "      <td>302.0</td>\n",
       "      <td>140.0</td>\n",
       "      <td>3449</td>\n",
       "      <td>10.5</td>\n",
       "      <td>70</td>\n",
       "      <td>usa</td>\n",
       "      <td>ford torino</td>\n",
       "    </tr>\n",
       "  </tbody>\n",
       "</table>\n",
       "</div>"
      ],
      "text/plain": [
       "   cylinders  displacement  horsepower  weight  acceleration  model_year  \\\n",
       "0          8         307.0       130.0    3504          12.0          70   \n",
       "1          8         350.0       165.0    3693          11.5          70   \n",
       "2          8         318.0       150.0    3436          11.0          70   \n",
       "3          8         304.0       150.0    3433          12.0          70   \n",
       "4          8         302.0       140.0    3449          10.5          70   \n",
       "\n",
       "  origin                       name  \n",
       "0    usa  chevrolet chevelle malibu  \n",
       "1    usa          buick skylark 320  \n",
       "2    usa         plymouth satellite  \n",
       "3    usa              amc rebel sst  \n",
       "4    usa                ford torino  "
      ]
     },
     "execution_count": 6,
     "metadata": {},
     "output_type": "execute_result"
    }
   ],
   "source": [
    "X.head()"
   ]
  },
  {
   "cell_type": "code",
   "execution_count": 7,
   "id": "0295fa83",
   "metadata": {},
   "outputs": [
    {
     "data": {
      "text/plain": [
       "0    18.0\n",
       "1    15.0\n",
       "2    18.0\n",
       "3    16.0\n",
       "4    17.0\n",
       "Name: mpg, dtype: float64"
      ]
     },
     "execution_count": 7,
     "metadata": {},
     "output_type": "execute_result"
    }
   ],
   "source": [
    "Y.head()"
   ]
  },
  {
   "cell_type": "code",
   "execution_count": 8,
   "id": "1169d6bc",
   "metadata": {},
   "outputs": [],
   "source": [
    "from sklearn.model_selection import train_test_split\n",
    "X_train,X_test,Y_train,Y_test = train_test_split(X,Y,test_size = 0.1,random_state = 45)"
   ]
  },
  {
   "cell_type": "code",
   "execution_count": 9,
   "id": "9087ab72",
   "metadata": {},
   "outputs": [
    {
     "data": {
      "text/html": [
       "<div>\n",
       "<style scoped>\n",
       "    .dataframe tbody tr th:only-of-type {\n",
       "        vertical-align: middle;\n",
       "    }\n",
       "\n",
       "    .dataframe tbody tr th {\n",
       "        vertical-align: top;\n",
       "    }\n",
       "\n",
       "    .dataframe thead th {\n",
       "        text-align: right;\n",
       "    }\n",
       "</style>\n",
       "<table border=\"1\" class=\"dataframe\">\n",
       "  <thead>\n",
       "    <tr style=\"text-align: right;\">\n",
       "      <th></th>\n",
       "      <th>cylinders</th>\n",
       "      <th>displacement</th>\n",
       "      <th>horsepower</th>\n",
       "      <th>weight</th>\n",
       "      <th>acceleration</th>\n",
       "      <th>model_year</th>\n",
       "      <th>origin</th>\n",
       "      <th>name</th>\n",
       "    </tr>\n",
       "  </thead>\n",
       "  <tbody>\n",
       "    <tr>\n",
       "      <th>178</th>\n",
       "      <td>4</td>\n",
       "      <td>120.0</td>\n",
       "      <td>88.0</td>\n",
       "      <td>2957</td>\n",
       "      <td>17.0</td>\n",
       "      <td>75</td>\n",
       "      <td>europe</td>\n",
       "      <td>peugeot 504</td>\n",
       "    </tr>\n",
       "    <tr>\n",
       "      <th>299</th>\n",
       "      <td>4</td>\n",
       "      <td>141.0</td>\n",
       "      <td>71.0</td>\n",
       "      <td>3190</td>\n",
       "      <td>24.8</td>\n",
       "      <td>79</td>\n",
       "      <td>europe</td>\n",
       "      <td>peugeot 504</td>\n",
       "    </tr>\n",
       "    <tr>\n",
       "      <th>360</th>\n",
       "      <td>6</td>\n",
       "      <td>145.0</td>\n",
       "      <td>76.0</td>\n",
       "      <td>3160</td>\n",
       "      <td>19.6</td>\n",
       "      <td>81</td>\n",
       "      <td>europe</td>\n",
       "      <td>volvo diesel</td>\n",
       "    </tr>\n",
       "    <tr>\n",
       "      <th>313</th>\n",
       "      <td>4</td>\n",
       "      <td>151.0</td>\n",
       "      <td>90.0</td>\n",
       "      <td>2678</td>\n",
       "      <td>16.5</td>\n",
       "      <td>80</td>\n",
       "      <td>usa</td>\n",
       "      <td>chevrolet citation</td>\n",
       "    </tr>\n",
       "    <tr>\n",
       "      <th>52</th>\n",
       "      <td>4</td>\n",
       "      <td>88.0</td>\n",
       "      <td>76.0</td>\n",
       "      <td>2065</td>\n",
       "      <td>14.5</td>\n",
       "      <td>71</td>\n",
       "      <td>europe</td>\n",
       "      <td>fiat 124b</td>\n",
       "    </tr>\n",
       "  </tbody>\n",
       "</table>\n",
       "</div>"
      ],
      "text/plain": [
       "     cylinders  displacement  horsepower  weight  acceleration  model_year  \\\n",
       "178          4         120.0        88.0    2957          17.0          75   \n",
       "299          4         141.0        71.0    3190          24.8          79   \n",
       "360          6         145.0        76.0    3160          19.6          81   \n",
       "313          4         151.0        90.0    2678          16.5          80   \n",
       "52           4          88.0        76.0    2065          14.5          71   \n",
       "\n",
       "     origin                name  \n",
       "178  europe         peugeot 504  \n",
       "299  europe         peugeot 504  \n",
       "360  europe        volvo diesel  \n",
       "313     usa  chevrolet citation  \n",
       "52   europe           fiat 124b  "
      ]
     },
     "execution_count": 9,
     "metadata": {},
     "output_type": "execute_result"
    }
   ],
   "source": [
    "X_train.head()"
   ]
  },
  {
   "cell_type": "code",
   "execution_count": 10,
   "id": "cda8adad",
   "metadata": {},
   "outputs": [
    {
     "data": {
      "text/plain": [
       "displacement   -0.808184\n",
       "horsepower     -0.775395\n",
       "weight         -0.833607\n",
       "acceleration    0.417611\n",
       "dtype: float64"
      ]
     },
     "execution_count": 10,
     "metadata": {},
     "output_type": "execute_result"
    }
   ],
   "source": [
    "num_features = ['displacement','horsepower','weight','acceleration']\n",
    "X_train[num_features].corrwith(Y_train)"
   ]
  },
  {
   "cell_type": "code",
   "execution_count": 11,
   "id": "2441afc6",
   "metadata": {},
   "outputs": [],
   "source": [
    "df = X_train.copy()\n",
    "df[\"mpg\"] = Y_train"
   ]
  },
  {
   "cell_type": "code",
   "execution_count": 12,
   "id": "0f740e9a",
   "metadata": {},
   "outputs": [
    {
     "data": {
      "text/html": [
       "<div>\n",
       "<style scoped>\n",
       "    .dataframe tbody tr th:only-of-type {\n",
       "        vertical-align: middle;\n",
       "    }\n",
       "\n",
       "    .dataframe tbody tr th {\n",
       "        vertical-align: top;\n",
       "    }\n",
       "\n",
       "    .dataframe thead th {\n",
       "        text-align: right;\n",
       "    }\n",
       "</style>\n",
       "<table border=\"1\" class=\"dataframe\">\n",
       "  <thead>\n",
       "    <tr style=\"text-align: right;\">\n",
       "      <th></th>\n",
       "      <th>cylinders</th>\n",
       "      <th>displacement</th>\n",
       "      <th>horsepower</th>\n",
       "      <th>weight</th>\n",
       "      <th>acceleration</th>\n",
       "      <th>model_year</th>\n",
       "      <th>origin</th>\n",
       "      <th>name</th>\n",
       "      <th>mpg</th>\n",
       "    </tr>\n",
       "  </thead>\n",
       "  <tbody>\n",
       "    <tr>\n",
       "      <th>178</th>\n",
       "      <td>4</td>\n",
       "      <td>120.0</td>\n",
       "      <td>88.0</td>\n",
       "      <td>2957</td>\n",
       "      <td>17.0</td>\n",
       "      <td>75</td>\n",
       "      <td>europe</td>\n",
       "      <td>peugeot 504</td>\n",
       "      <td>23.0</td>\n",
       "    </tr>\n",
       "    <tr>\n",
       "      <th>299</th>\n",
       "      <td>4</td>\n",
       "      <td>141.0</td>\n",
       "      <td>71.0</td>\n",
       "      <td>3190</td>\n",
       "      <td>24.8</td>\n",
       "      <td>79</td>\n",
       "      <td>europe</td>\n",
       "      <td>peugeot 504</td>\n",
       "      <td>27.2</td>\n",
       "    </tr>\n",
       "    <tr>\n",
       "      <th>360</th>\n",
       "      <td>6</td>\n",
       "      <td>145.0</td>\n",
       "      <td>76.0</td>\n",
       "      <td>3160</td>\n",
       "      <td>19.6</td>\n",
       "      <td>81</td>\n",
       "      <td>europe</td>\n",
       "      <td>volvo diesel</td>\n",
       "      <td>30.7</td>\n",
       "    </tr>\n",
       "    <tr>\n",
       "      <th>313</th>\n",
       "      <td>4</td>\n",
       "      <td>151.0</td>\n",
       "      <td>90.0</td>\n",
       "      <td>2678</td>\n",
       "      <td>16.5</td>\n",
       "      <td>80</td>\n",
       "      <td>usa</td>\n",
       "      <td>chevrolet citation</td>\n",
       "      <td>28.0</td>\n",
       "    </tr>\n",
       "    <tr>\n",
       "      <th>52</th>\n",
       "      <td>4</td>\n",
       "      <td>88.0</td>\n",
       "      <td>76.0</td>\n",
       "      <td>2065</td>\n",
       "      <td>14.5</td>\n",
       "      <td>71</td>\n",
       "      <td>europe</td>\n",
       "      <td>fiat 124b</td>\n",
       "      <td>30.0</td>\n",
       "    </tr>\n",
       "  </tbody>\n",
       "</table>\n",
       "</div>"
      ],
      "text/plain": [
       "     cylinders  displacement  horsepower  weight  acceleration  model_year  \\\n",
       "178          4         120.0        88.0    2957          17.0          75   \n",
       "299          4         141.0        71.0    3190          24.8          79   \n",
       "360          6         145.0        76.0    3160          19.6          81   \n",
       "313          4         151.0        90.0    2678          16.5          80   \n",
       "52           4          88.0        76.0    2065          14.5          71   \n",
       "\n",
       "     origin                name   mpg  \n",
       "178  europe         peugeot 504  23.0  \n",
       "299  europe         peugeot 504  27.2  \n",
       "360  europe        volvo diesel  30.7  \n",
       "313     usa  chevrolet citation  28.0  \n",
       "52   europe           fiat 124b  30.0  "
      ]
     },
     "execution_count": 12,
     "metadata": {},
     "output_type": "execute_result"
    }
   ],
   "source": [
    "df.head()"
   ]
  },
  {
   "cell_type": "code",
   "execution_count": 13,
   "id": "d36ed689",
   "metadata": {},
   "outputs": [
    {
     "data": {
      "text/html": [
       "<style type=\"text/css\">\n",
       "#T_f146b_row0_col0, #T_f146b_row4_col7 {\n",
       "  background-color: #3d50c3;\n",
       "  color: #f1f1f1;\n",
       "}\n",
       "#T_f146b_row0_col1 {\n",
       "  background-color: #bfd3f6;\n",
       "  color: #000000;\n",
       "}\n",
       "#T_f146b_row0_col2 {\n",
       "  background-color: #3e51c5;\n",
       "  color: #f1f1f1;\n",
       "}\n",
       "#T_f146b_row0_col3 {\n",
       "  background-color: #ee8669;\n",
       "  color: #f1f1f1;\n",
       "}\n",
       "#T_f146b_row0_col4 {\n",
       "  background-color: #d7dce3;\n",
       "  color: #000000;\n",
       "}\n",
       "#T_f146b_row0_col5, #T_f146b_row3_col4 {\n",
       "  background-color: #c5d6f2;\n",
       "  color: #000000;\n",
       "}\n",
       "#T_f146b_row0_col6 {\n",
       "  background-color: #afcafc;\n",
       "  color: #000000;\n",
       "}\n",
       "#T_f146b_row0_col7, #T_f146b_row2_col0, #T_f146b_row4_col1, #T_f146b_row4_col2, #T_f146b_row4_col3, #T_f146b_row4_col4, #T_f146b_row4_col5, #T_f146b_row4_col6 {\n",
       "  background-color: #3b4cc0;\n",
       "  color: #f1f1f1;\n",
       "}\n",
       "#T_f146b_row1_col0, #T_f146b_row1_col1, #T_f146b_row1_col4, #T_f146b_row1_col5, #T_f146b_row1_col6, #T_f146b_row1_col7, #T_f146b_row2_col2, #T_f146b_row2_col3 {\n",
       "  background-color: #b40426;\n",
       "  color: #f1f1f1;\n",
       "}\n",
       "#T_f146b_row1_col2 {\n",
       "  background-color: #b6cefa;\n",
       "  color: #000000;\n",
       "}\n",
       "#T_f146b_row1_col3 {\n",
       "  background-color: #da5a49;\n",
       "  color: #f1f1f1;\n",
       "}\n",
       "#T_f146b_row2_col1 {\n",
       "  background-color: #cf453c;\n",
       "  color: #f1f1f1;\n",
       "}\n",
       "#T_f146b_row2_col4 {\n",
       "  background-color: #c83836;\n",
       "  color: #f1f1f1;\n",
       "}\n",
       "#T_f146b_row2_col5 {\n",
       "  background-color: #c43032;\n",
       "  color: #f1f1f1;\n",
       "}\n",
       "#T_f146b_row2_col6 {\n",
       "  background-color: #c53334;\n",
       "  color: #f1f1f1;\n",
       "}\n",
       "#T_f146b_row2_col7 {\n",
       "  background-color: #ead5c9;\n",
       "  color: #000000;\n",
       "}\n",
       "#T_f146b_row3_col0 {\n",
       "  background-color: #c7d7f0;\n",
       "  color: #000000;\n",
       "}\n",
       "#T_f146b_row3_col1 {\n",
       "  background-color: #b2ccfb;\n",
       "  color: #000000;\n",
       "}\n",
       "#T_f146b_row3_col2 {\n",
       "  background-color: #6c8ff1;\n",
       "  color: #f1f1f1;\n",
       "}\n",
       "#T_f146b_row3_col3 {\n",
       "  background-color: #e4d9d2;\n",
       "  color: #000000;\n",
       "}\n",
       "#T_f146b_row3_col5 {\n",
       "  background-color: #aac7fd;\n",
       "  color: #000000;\n",
       "}\n",
       "#T_f146b_row3_col6 {\n",
       "  background-color: #9bbcff;\n",
       "  color: #000000;\n",
       "}\n",
       "#T_f146b_row3_col7 {\n",
       "  background-color: #f4c5ad;\n",
       "  color: #000000;\n",
       "}\n",
       "#T_f146b_row4_col0 {\n",
       "  background-color: #d9dce1;\n",
       "  color: #000000;\n",
       "}\n",
       "</style>\n",
       "<table id=\"T_f146b\">\n",
       "  <thead>\n",
       "    <tr>\n",
       "      <th class=\"blank level0\" >&nbsp;</th>\n",
       "      <th id=\"T_f146b_level0_col0\" class=\"col_heading level0 col0\" >count</th>\n",
       "      <th id=\"T_f146b_level0_col1\" class=\"col_heading level0 col1\" >mean</th>\n",
       "      <th id=\"T_f146b_level0_col2\" class=\"col_heading level0 col2\" >std</th>\n",
       "      <th id=\"T_f146b_level0_col3\" class=\"col_heading level0 col3\" >min</th>\n",
       "      <th id=\"T_f146b_level0_col4\" class=\"col_heading level0 col4\" >25%</th>\n",
       "      <th id=\"T_f146b_level0_col5\" class=\"col_heading level0 col5\" >50%</th>\n",
       "      <th id=\"T_f146b_level0_col6\" class=\"col_heading level0 col6\" >75%</th>\n",
       "      <th id=\"T_f146b_level0_col7\" class=\"col_heading level0 col7\" >max</th>\n",
       "    </tr>\n",
       "    <tr>\n",
       "      <th class=\"index_name level0\" >cylinders</th>\n",
       "      <th class=\"blank col0\" >&nbsp;</th>\n",
       "      <th class=\"blank col1\" >&nbsp;</th>\n",
       "      <th class=\"blank col2\" >&nbsp;</th>\n",
       "      <th class=\"blank col3\" >&nbsp;</th>\n",
       "      <th class=\"blank col4\" >&nbsp;</th>\n",
       "      <th class=\"blank col5\" >&nbsp;</th>\n",
       "      <th class=\"blank col6\" >&nbsp;</th>\n",
       "      <th class=\"blank col7\" >&nbsp;</th>\n",
       "    </tr>\n",
       "  </thead>\n",
       "  <tbody>\n",
       "    <tr>\n",
       "      <th id=\"T_f146b_level0_row0\" class=\"row_heading level0 row0\" >3</th>\n",
       "      <td id=\"T_f146b_row0_col0\" class=\"data row0 col0\" >4.000000</td>\n",
       "      <td id=\"T_f146b_row0_col1\" class=\"data row0 col1\" >20.550000</td>\n",
       "      <td id=\"T_f146b_row0_col2\" class=\"data row0 col2\" >2.564501</td>\n",
       "      <td id=\"T_f146b_row0_col3\" class=\"data row0 col3\" >18.000000</td>\n",
       "      <td id=\"T_f146b_row0_col4\" class=\"data row0 col4\" >18.750000</td>\n",
       "      <td id=\"T_f146b_row0_col5\" class=\"data row0 col5\" >20.250000</td>\n",
       "      <td id=\"T_f146b_row0_col6\" class=\"data row0 col6\" >22.050000</td>\n",
       "      <td id=\"T_f146b_row0_col7\" class=\"data row0 col7\" >23.700000</td>\n",
       "    </tr>\n",
       "    <tr>\n",
       "      <th id=\"T_f146b_level0_row1\" class=\"row_heading level0 row1\" >4</th>\n",
       "      <td id=\"T_f146b_row1_col0\" class=\"data row1 col0\" >183.000000</td>\n",
       "      <td id=\"T_f146b_row1_col1\" class=\"data row1 col1\" >29.507104</td>\n",
       "      <td id=\"T_f146b_row1_col2\" class=\"data row1 col2\" >5.743980</td>\n",
       "      <td id=\"T_f146b_row1_col3\" class=\"data row1 col3\" >19.000000</td>\n",
       "      <td id=\"T_f146b_row1_col4\" class=\"data row1 col4\" >25.000000</td>\n",
       "      <td id=\"T_f146b_row1_col5\" class=\"data row1 col5\" >29.000000</td>\n",
       "      <td id=\"T_f146b_row1_col6\" class=\"data row1 col6\" >33.250000</td>\n",
       "      <td id=\"T_f146b_row1_col7\" class=\"data row1 col7\" >46.600000</td>\n",
       "    </tr>\n",
       "    <tr>\n",
       "      <th id=\"T_f146b_level0_row2\" class=\"row_heading level0 row2\" >5</th>\n",
       "      <td id=\"T_f146b_row2_col0\" class=\"data row2 col0\" >2.000000</td>\n",
       "      <td id=\"T_f146b_row2_col1\" class=\"data row2 col1\" >28.350000</td>\n",
       "      <td id=\"T_f146b_row2_col2\" class=\"data row2 col2\" >11.384419</td>\n",
       "      <td id=\"T_f146b_row2_col3\" class=\"data row2 col3\" >20.300000</td>\n",
       "      <td id=\"T_f146b_row2_col4\" class=\"data row2 col4\" >24.325000</td>\n",
       "      <td id=\"T_f146b_row2_col5\" class=\"data row2 col5\" >28.350000</td>\n",
       "      <td id=\"T_f146b_row2_col6\" class=\"data row2 col6\" >32.375000</td>\n",
       "      <td id=\"T_f146b_row2_col7\" class=\"data row2 col7\" >36.400000</td>\n",
       "    </tr>\n",
       "    <tr>\n",
       "      <th id=\"T_f146b_level0_row3\" class=\"row_heading level0 row3\" >6</th>\n",
       "      <td id=\"T_f146b_row3_col0\" class=\"data row3 col0\" >79.000000</td>\n",
       "      <td id=\"T_f146b_row3_col1\" class=\"data row3 col1\" >20.013924</td>\n",
       "      <td id=\"T_f146b_row3_col2\" class=\"data row3 col2\" >3.861969</td>\n",
       "      <td id=\"T_f146b_row3_col3\" class=\"data row3 col3\" >15.000000</td>\n",
       "      <td id=\"T_f146b_row3_col4\" class=\"data row3 col4\" >18.000000</td>\n",
       "      <td id=\"T_f146b_row3_col5\" class=\"data row3 col5\" >19.000000</td>\n",
       "      <td id=\"T_f146b_row3_col6\" class=\"data row3 col6\" >21.000000</td>\n",
       "      <td id=\"T_f146b_row3_col7\" class=\"data row3 col7\" >38.000000</td>\n",
       "    </tr>\n",
       "    <tr>\n",
       "      <th id=\"T_f146b_level0_row4\" class=\"row_heading level0 row4\" >8</th>\n",
       "      <td id=\"T_f146b_row4_col0\" class=\"data row4 col0\" >90.000000</td>\n",
       "      <td id=\"T_f146b_row4_col1\" class=\"data row4 col1\" >14.694444</td>\n",
       "      <td id=\"T_f146b_row4_col2\" class=\"data row4 col2\" >2.441604</td>\n",
       "      <td id=\"T_f146b_row4_col3\" class=\"data row4 col3\" >9.000000</td>\n",
       "      <td id=\"T_f146b_row4_col4\" class=\"data row4 col4\" >13.000000</td>\n",
       "      <td id=\"T_f146b_row4_col5\" class=\"data row4 col5\" >14.000000</td>\n",
       "      <td id=\"T_f146b_row4_col6\" class=\"data row4 col6\" >16.000000</td>\n",
       "      <td id=\"T_f146b_row4_col7\" class=\"data row4 col7\" >23.900000</td>\n",
       "    </tr>\n",
       "  </tbody>\n",
       "</table>\n"
      ],
      "text/plain": [
       "<pandas.io.formats.style.Styler at 0x208d88d0a50>"
      ]
     },
     "execution_count": 13,
     "metadata": {},
     "output_type": "execute_result"
    }
   ],
   "source": [
    "df.groupby('cylinders')['mpg'].describe().style.background_gradient(cmap = \"coolwarm\")"
   ]
  },
  {
   "cell_type": "code",
   "execution_count": 14,
   "id": "4d9db5d1",
   "metadata": {},
   "outputs": [
    {
     "data": {
      "image/png": "[encoded data removed]",
      "text/plain": [
       "<Figure size 640x480 with 1 Axes>"
      ]
     },
     "metadata": {},
     "output_type": "display_data"
    }
   ],
   "source": [
    "sns.scatterplot(x = \"horsepower\",y = \"mpg\",hue = \"cylinders\",data = df,palette = \"coolwarm\")\n",
    "plt.show()"
   ]
  },
  {
   "cell_type": "code",
   "execution_count": 15,
   "id": "43f5536f",
   "metadata": {},
   "outputs": [
    {
     "data": {
      "text/html": [
       "<style type=\"text/css\">\n",
       "#T_6b3f4_row0_col0, #T_6b3f4_row0_col3, #T_6b3f4_row0_col5, #T_6b3f4_row0_col7, #T_6b3f4_row2_col0, #T_6b3f4_row2_col4, #T_6b3f4_row3_col1, #T_6b3f4_row3_col2, #T_6b3f4_row3_col4, #T_6b3f4_row3_col5, #T_6b3f4_row3_col6, #T_6b3f4_row4_col0, #T_6b3f4_row7_col0 {\n",
       "  background-color: #3b4cc0;\n",
       "  color: #f1f1f1;\n",
       "}\n",
       "#T_6b3f4_row0_col1, #T_6b3f4_row2_col7 {\n",
       "  background-color: #4a63d3;\n",
       "  color: #f1f1f1;\n",
       "}\n",
       "#T_6b3f4_row0_col2, #T_6b3f4_row6_col1 {\n",
       "  background-color: #94b6ff;\n",
       "  color: #000000;\n",
       "}\n",
       "#T_6b3f4_row0_col4 {\n",
       "  background-color: #4c66d6;\n",
       "  color: #f1f1f1;\n",
       "}\n",
       "#T_6b3f4_row0_col6 {\n",
       "  background-color: #5b7ae5;\n",
       "  color: #f1f1f1;\n",
       "}\n",
       "#T_6b3f4_row1_col0, #T_6b3f4_row5_col0, #T_6b3f4_row9_col0, #T_6b3f4_row11_col0 {\n",
       "  background-color: #5470de;\n",
       "  color: #f1f1f1;\n",
       "}\n",
       "#T_6b3f4_row1_col1, #T_6b3f4_row6_col4 {\n",
       "  background-color: #90b2fe;\n",
       "  color: #000000;\n",
       "}\n",
       "#T_6b3f4_row1_col2, #T_6b3f4_row10_col3 {\n",
       "  background-color: #f6a586;\n",
       "  color: #000000;\n",
       "}\n",
       "#T_6b3f4_row1_col3, #T_6b3f4_row5_col5 {\n",
       "  background-color: #80a3fa;\n",
       "  color: #f1f1f1;\n",
       "}\n",
       "#T_6b3f4_row1_col4, #T_6b3f4_row5_col4 {\n",
       "  background-color: #7a9df8;\n",
       "  color: #f1f1f1;\n",
       "}\n",
       "#T_6b3f4_row1_col5, #T_6b3f4_row2_col5, #T_6b3f4_row4_col4 {\n",
       "  background-color: #7597f6;\n",
       "  color: #f1f1f1;\n",
       "}\n",
       "#T_6b3f4_row1_col6, #T_6b3f4_row7_col5 {\n",
       "  background-color: #b3cdfb;\n",
       "  color: #000000;\n",
       "}\n",
       "#T_6b3f4_row1_col7, #T_6b3f4_row2_col2, #T_6b3f4_row7_col1 {\n",
       "  background-color: #c3d5f4;\n",
       "  color: #000000;\n",
       "}\n",
       "#T_6b3f4_row2_col1 {\n",
       "  background-color: #5d7ce6;\n",
       "  color: #f1f1f1;\n",
       "}\n",
       "#T_6b3f4_row2_col3, #T_6b3f4_row3_col3 {\n",
       "  background-color: #6788ee;\n",
       "  color: #f1f1f1;\n",
       "}\n",
       "#T_6b3f4_row2_col6, #T_6b3f4_row5_col6 {\n",
       "  background-color: #6c8ff1;\n",
       "  color: #f1f1f1;\n",
       "}\n",
       "#T_6b3f4_row3_col0, #T_6b3f4_row8_col2, #T_6b3f4_row10_col1, #T_6b3f4_row10_col4, #T_6b3f4_row10_col5, #T_6b3f4_row10_col6, #T_6b3f4_row10_col7, #T_6b3f4_row12_col3 {\n",
       "  background-color: #b40426;\n",
       "  color: #f1f1f1;\n",
       "}\n",
       "#T_6b3f4_row3_col7 {\n",
       "  background-color: #5a78e4;\n",
       "  color: #f1f1f1;\n",
       "}\n",
       "#T_6b3f4_row4_col1 {\n",
       "  background-color: #a6c4fe;\n",
       "  color: #000000;\n",
       "}\n",
       "#T_6b3f4_row4_col2 {\n",
       "  background-color: #f7aa8c;\n",
       "  color: #000000;\n",
       "}\n",
       "#T_6b3f4_row4_col3, #T_6b3f4_row5_col3, #T_6b3f4_row6_col3 {\n",
       "  background-color: #9abbff;\n",
       "  color: #000000;\n",
       "}\n",
       "#T_6b3f4_row4_col5 {\n",
       "  background-color: #d8dce2;\n",
       "  color: #000000;\n",
       "}\n",
       "#T_6b3f4_row4_col6 {\n",
       "  background-color: #a5c3fe;\n",
       "  color: #000000;\n",
       "}\n",
       "#T_6b3f4_row4_col7 {\n",
       "  background-color: #8fb1fe;\n",
       "  color: #000000;\n",
       "}\n",
       "#T_6b3f4_row5_col1 {\n",
       "  background-color: #7da0f9;\n",
       "  color: #f1f1f1;\n",
       "}\n",
       "#T_6b3f4_row5_col2 {\n",
       "  background-color: #6f92f3;\n",
       "  color: #f1f1f1;\n",
       "}\n",
       "#T_6b3f4_row5_col7, #T_6b3f4_row6_col7 {\n",
       "  background-color: #a1c0ff;\n",
       "  color: #000000;\n",
       "}\n",
       "#T_6b3f4_row6_col0 {\n",
       "  background-color: #efcebd;\n",
       "  color: #000000;\n",
       "}\n",
       "#T_6b3f4_row6_col2 {\n",
       "  background-color: #d4dbe6;\n",
       "  color: #000000;\n",
       "}\n",
       "#T_6b3f4_row6_col5 {\n",
       "  background-color: #9fbfff;\n",
       "  color: #000000;\n",
       "}\n",
       "#T_6b3f4_row6_col6 {\n",
       "  background-color: #a7c5fe;\n",
       "  color: #000000;\n",
       "}\n",
       "#T_6b3f4_row7_col2 {\n",
       "  background-color: #ec7f63;\n",
       "  color: #f1f1f1;\n",
       "}\n",
       "#T_6b3f4_row7_col3, #T_6b3f4_row8_col1, #T_6b3f4_row9_col5 {\n",
       "  background-color: #c9d7f0;\n",
       "  color: #000000;\n",
       "}\n",
       "#T_6b3f4_row7_col4 {\n",
       "  background-color: #96b7ff;\n",
       "  color: #000000;\n",
       "}\n",
       "#T_6b3f4_row7_col6 {\n",
       "  background-color: #e5d8d1;\n",
       "  color: #000000;\n",
       "}\n",
       "#T_6b3f4_row7_col7 {\n",
       "  background-color: #d2dbe8;\n",
       "  color: #000000;\n",
       "}\n",
       "#T_6b3f4_row8_col0 {\n",
       "  background-color: #aac7fd;\n",
       "  color: #000000;\n",
       "}\n",
       "#T_6b3f4_row8_col3 {\n",
       "  background-color: #e0dbd8;\n",
       "  color: #000000;\n",
       "}\n",
       "#T_6b3f4_row8_col4 {\n",
       "  background-color: #bed2f6;\n",
       "  color: #000000;\n",
       "}\n",
       "#T_6b3f4_row8_col5 {\n",
       "  background-color: #97b8ff;\n",
       "  color: #000000;\n",
       "}\n",
       "#T_6b3f4_row8_col6 {\n",
       "  background-color: #c0d4f5;\n",
       "  color: #000000;\n",
       "}\n",
       "#T_6b3f4_row8_col7 {\n",
       "  background-color: #e97a5f;\n",
       "  color: #f1f1f1;\n",
       "}\n",
       "#T_6b3f4_row9_col1 {\n",
       "  background-color: #d6dce4;\n",
       "  color: #000000;\n",
       "}\n",
       "#T_6b3f4_row9_col2 {\n",
       "  background-color: #d65244;\n",
       "  color: #f1f1f1;\n",
       "}\n",
       "#T_6b3f4_row9_col3 {\n",
       "  background-color: #d3dbe7;\n",
       "  color: #000000;\n",
       "}\n",
       "#T_6b3f4_row9_col4 {\n",
       "  background-color: #aec9fc;\n",
       "  color: #000000;\n",
       "}\n",
       "#T_6b3f4_row9_col6 {\n",
       "  background-color: #f1cdba;\n",
       "  color: #000000;\n",
       "}\n",
       "#T_6b3f4_row9_col7 {\n",
       "  background-color: #e3d9d3;\n",
       "  color: #000000;\n",
       "}\n",
       "#T_6b3f4_row10_col0, #T_6b3f4_row12_col0 {\n",
       "  background-color: #8db0fe;\n",
       "  color: #000000;\n",
       "}\n",
       "#T_6b3f4_row10_col2 {\n",
       "  background-color: #c83836;\n",
       "  color: #f1f1f1;\n",
       "}\n",
       "#T_6b3f4_row11_col1 {\n",
       "  background-color: #ea7b60;\n",
       "  color: #f1f1f1;\n",
       "}\n",
       "#T_6b3f4_row11_col2 {\n",
       "  background-color: #c1d4f4;\n",
       "  color: #000000;\n",
       "}\n",
       "#T_6b3f4_row11_col3 {\n",
       "  background-color: #f3c7b1;\n",
       "  color: #000000;\n",
       "}\n",
       "#T_6b3f4_row11_col4 {\n",
       "  background-color: #e57058;\n",
       "  color: #f1f1f1;\n",
       "}\n",
       "#T_6b3f4_row11_col5 {\n",
       "  background-color: #c0282f;\n",
       "  color: #f1f1f1;\n",
       "}\n",
       "#T_6b3f4_row11_col6 {\n",
       "  background-color: #f29072;\n",
       "  color: #f1f1f1;\n",
       "}\n",
       "#T_6b3f4_row11_col7 {\n",
       "  background-color: #f4c6af;\n",
       "  color: #000000;\n",
       "}\n",
       "#T_6b3f4_row12_col1 {\n",
       "  background-color: #da5a49;\n",
       "  color: #f1f1f1;\n",
       "}\n",
       "#T_6b3f4_row12_col2 {\n",
       "  background-color: #86a9fc;\n",
       "  color: #f1f1f1;\n",
       "}\n",
       "#T_6b3f4_row12_col4 {\n",
       "  background-color: #e26952;\n",
       "  color: #f1f1f1;\n",
       "}\n",
       "#T_6b3f4_row12_col5 {\n",
       "  background-color: #cb3e38;\n",
       "  color: #f1f1f1;\n",
       "}\n",
       "#T_6b3f4_row12_col6 {\n",
       "  background-color: #e36b54;\n",
       "  color: #f1f1f1;\n",
       "}\n",
       "#T_6b3f4_row12_col7 {\n",
       "  background-color: #df634e;\n",
       "  color: #f1f1f1;\n",
       "}\n",
       "</style>\n",
       "<table id=\"T_6b3f4\">\n",
       "  <thead>\n",
       "    <tr>\n",
       "      <th class=\"blank level0\" >&nbsp;</th>\n",
       "      <th id=\"T_6b3f4_level0_col0\" class=\"col_heading level0 col0\" >count</th>\n",
       "      <th id=\"T_6b3f4_level0_col1\" class=\"col_heading level0 col1\" >mean</th>\n",
       "      <th id=\"T_6b3f4_level0_col2\" class=\"col_heading level0 col2\" >std</th>\n",
       "      <th id=\"T_6b3f4_level0_col3\" class=\"col_heading level0 col3\" >min</th>\n",
       "      <th id=\"T_6b3f4_level0_col4\" class=\"col_heading level0 col4\" >25%</th>\n",
       "      <th id=\"T_6b3f4_level0_col5\" class=\"col_heading level0 col5\" >50%</th>\n",
       "      <th id=\"T_6b3f4_level0_col6\" class=\"col_heading level0 col6\" >75%</th>\n",
       "      <th id=\"T_6b3f4_level0_col7\" class=\"col_heading level0 col7\" >max</th>\n",
       "    </tr>\n",
       "    <tr>\n",
       "      <th class=\"index_name level0\" >model_year</th>\n",
       "      <th class=\"blank col0\" >&nbsp;</th>\n",
       "      <th class=\"blank col1\" >&nbsp;</th>\n",
       "      <th class=\"blank col2\" >&nbsp;</th>\n",
       "      <th class=\"blank col3\" >&nbsp;</th>\n",
       "      <th class=\"blank col4\" >&nbsp;</th>\n",
       "      <th class=\"blank col5\" >&nbsp;</th>\n",
       "      <th class=\"blank col6\" >&nbsp;</th>\n",
       "      <th class=\"blank col7\" >&nbsp;</th>\n",
       "    </tr>\n",
       "  </thead>\n",
       "  <tbody>\n",
       "    <tr>\n",
       "      <th id=\"T_6b3f4_level0_row0\" class=\"row_heading level0 row0\" >70</th>\n",
       "      <td id=\"T_6b3f4_row0_col0\" class=\"data row0 col0\" >25.000000</td>\n",
       "      <td id=\"T_6b3f4_row0_col1\" class=\"data row0 col1\" >17.840000</td>\n",
       "      <td id=\"T_6b3f4_row0_col2\" class=\"data row0 col2\" >5.312564</td>\n",
       "      <td id=\"T_6b3f4_row0_col3\" class=\"data row0 col3\" >9.000000</td>\n",
       "      <td id=\"T_6b3f4_row0_col4\" class=\"data row0 col4\" >14.000000</td>\n",
       "      <td id=\"T_6b3f4_row0_col5\" class=\"data row0 col5\" >16.000000</td>\n",
       "      <td id=\"T_6b3f4_row0_col6\" class=\"data row0 col6\" >22.000000</td>\n",
       "      <td id=\"T_6b3f4_row0_col7\" class=\"data row0 col7\" >27.000000</td>\n",
       "    </tr>\n",
       "    <tr>\n",
       "      <th id=\"T_6b3f4_level0_row1\" class=\"row_heading level0 row1\" >71</th>\n",
       "      <td id=\"T_6b3f4_row1_col0\" class=\"data row1 col0\" >26.000000</td>\n",
       "      <td id=\"T_6b3f4_row1_col1\" class=\"data row1 col1\" >21.269231</td>\n",
       "      <td id=\"T_6b3f4_row1_col2\" class=\"data row1 col2\" >6.557790</td>\n",
       "      <td id=\"T_6b3f4_row1_col3\" class=\"data row1 col3\" >12.000000</td>\n",
       "      <td id=\"T_6b3f4_row1_col4\" class=\"data row1 col4\" >16.250000</td>\n",
       "      <td id=\"T_6b3f4_row1_col5\" class=\"data row1 col5\" >19.000000</td>\n",
       "      <td id=\"T_6b3f4_row1_col6\" class=\"data row1 col6\" >26.750000</td>\n",
       "      <td id=\"T_6b3f4_row1_col7\" class=\"data row1 col7\" >35.000000</td>\n",
       "    </tr>\n",
       "    <tr>\n",
       "      <th id=\"T_6b3f4_level0_row2\" class=\"row_heading level0 row2\" >72</th>\n",
       "      <td id=\"T_6b3f4_row2_col0\" class=\"data row2 col0\" >25.000000</td>\n",
       "      <td id=\"T_6b3f4_row2_col1\" class=\"data row2 col1\" >18.800000</td>\n",
       "      <td id=\"T_6b3f4_row2_col2\" class=\"data row2 col2\" >5.693564</td>\n",
       "      <td id=\"T_6b3f4_row2_col3\" class=\"data row2 col3\" >11.000000</td>\n",
       "      <td id=\"T_6b3f4_row2_col4\" class=\"data row2 col4\" >13.000000</td>\n",
       "      <td id=\"T_6b3f4_row2_col5\" class=\"data row2 col5\" >19.000000</td>\n",
       "      <td id=\"T_6b3f4_row2_col6\" class=\"data row2 col6\" >23.000000</td>\n",
       "      <td id=\"T_6b3f4_row2_col7\" class=\"data row2 col7\" >28.000000</td>\n",
       "    </tr>\n",
       "    <tr>\n",
       "      <th id=\"T_6b3f4_level0_row3\" class=\"row_heading level0 row3\" >73</th>\n",
       "      <td id=\"T_6b3f4_row3_col0\" class=\"data row3 col0\" >37.000000</td>\n",
       "      <td id=\"T_6b3f4_row3_col1\" class=\"data row3 col1\" >16.945946</td>\n",
       "      <td id=\"T_6b3f4_row3_col2\" class=\"data row3 col2\" >4.570108</td>\n",
       "      <td id=\"T_6b3f4_row3_col3\" class=\"data row3 col3\" >11.000000</td>\n",
       "      <td id=\"T_6b3f4_row3_col4\" class=\"data row3 col4\" >13.000000</td>\n",
       "      <td id=\"T_6b3f4_row3_col5\" class=\"data row3 col5\" >16.000000</td>\n",
       "      <td id=\"T_6b3f4_row3_col6\" class=\"data row3 col6\" >20.000000</td>\n",
       "      <td id=\"T_6b3f4_row3_col7\" class=\"data row3 col7\" >29.000000</td>\n",
       "    </tr>\n",
       "    <tr>\n",
       "      <th id=\"T_6b3f4_level0_row4\" class=\"row_heading level0 row4\" >74</th>\n",
       "      <td id=\"T_6b3f4_row4_col0\" class=\"data row4 col0\" >25.000000</td>\n",
       "      <td id=\"T_6b3f4_row4_col1\" class=\"data row4 col1\" >22.320000</td>\n",
       "      <td id=\"T_6b3f4_row4_col2\" class=\"data row4 col2\" >6.511016</td>\n",
       "      <td id=\"T_6b3f4_row4_col3\" class=\"data row4 col3\" >13.000000</td>\n",
       "      <td id=\"T_6b3f4_row4_col4\" class=\"data row4 col4\" >16.000000</td>\n",
       "      <td id=\"T_6b3f4_row4_col5\" class=\"data row4 col5\" >24.000000</td>\n",
       "      <td id=\"T_6b3f4_row4_col6\" class=\"data row4 col6\" >26.000000</td>\n",
       "      <td id=\"T_6b3f4_row4_col7\" class=\"data row4 col7\" >32.000000</td>\n",
       "    </tr>\n",
       "    <tr>\n",
       "      <th id=\"T_6b3f4_level0_row5\" class=\"row_heading level0 row5\" >75</th>\n",
       "      <td id=\"T_6b3f4_row5_col0\" class=\"data row5 col0\" >26.000000</td>\n",
       "      <td id=\"T_6b3f4_row5_col1\" class=\"data row5 col1\" >20.346154</td>\n",
       "      <td id=\"T_6b3f4_row5_col2\" class=\"data row5 col2\" >5.027463</td>\n",
       "      <td id=\"T_6b3f4_row5_col3\" class=\"data row5 col3\" >13.000000</td>\n",
       "      <td id=\"T_6b3f4_row5_col4\" class=\"data row5 col4\" >16.250000</td>\n",
       "      <td id=\"T_6b3f4_row5_col5\" class=\"data row5 col5\" >19.500000</td>\n",
       "      <td id=\"T_6b3f4_row5_col6\" class=\"data row5 col6\" >23.000000</td>\n",
       "      <td id=\"T_6b3f4_row5_col7\" class=\"data row5 col7\" >33.000000</td>\n",
       "    </tr>\n",
       "    <tr>\n",
       "      <th id=\"T_6b3f4_level0_row6\" class=\"row_heading level0 row6\" >76</th>\n",
       "      <td id=\"T_6b3f4_row6_col0\" class=\"data row6 col0\" >32.000000</td>\n",
       "      <td id=\"T_6b3f4_row6_col1\" class=\"data row6 col1\" >21.500000</td>\n",
       "      <td id=\"T_6b3f4_row6_col2\" class=\"data row6 col2\" >5.857171</td>\n",
       "      <td id=\"T_6b3f4_row6_col3\" class=\"data row6 col3\" >13.000000</td>\n",
       "      <td id=\"T_6b3f4_row6_col4\" class=\"data row6 col4\" >17.250000</td>\n",
       "      <td id=\"T_6b3f4_row6_col5\" class=\"data row6 col5\" >21.000000</td>\n",
       "      <td id=\"T_6b3f4_row6_col6\" class=\"data row6 col6\" >26.125000</td>\n",
       "      <td id=\"T_6b3f4_row6_col7\" class=\"data row6 col7\" >33.000000</td>\n",
       "    </tr>\n",
       "    <tr>\n",
       "      <th id=\"T_6b3f4_level0_row7\" class=\"row_heading level0 row7\" >77</th>\n",
       "      <td id=\"T_6b3f4_row7_col0\" class=\"data row7 col0\" >25.000000</td>\n",
       "      <td id=\"T_6b3f4_row7_col1\" class=\"data row7 col1\" >23.800000</td>\n",
       "      <td id=\"T_6b3f4_row7_col2\" class=\"data row7 col2\" >6.796139</td>\n",
       "      <td id=\"T_6b3f4_row7_col3\" class=\"data row7 col3\" >15.000000</td>\n",
       "      <td id=\"T_6b3f4_row7_col4\" class=\"data row7 col4\" >17.500000</td>\n",
       "      <td id=\"T_6b3f4_row7_col5\" class=\"data row7 col5\" >22.000000</td>\n",
       "      <td id=\"T_6b3f4_row7_col6\" class=\"data row7 col6\" >30.000000</td>\n",
       "      <td id=\"T_6b3f4_row7_col7\" class=\"data row7 col7\" >36.000000</td>\n",
       "    </tr>\n",
       "    <tr>\n",
       "      <th id=\"T_6b3f4_level0_row8\" class=\"row_heading level0 row8\" >78</th>\n",
       "      <td id=\"T_6b3f4_row8_col0\" class=\"data row8 col0\" >29.000000</td>\n",
       "      <td id=\"T_6b3f4_row8_col1\" class=\"data row8 col1\" >24.124138</td>\n",
       "      <td id=\"T_6b3f4_row8_col2\" class=\"data row8 col2\" >7.320941</td>\n",
       "      <td id=\"T_6b3f4_row8_col3\" class=\"data row8 col3\" >16.200000</td>\n",
       "      <td id=\"T_6b3f4_row8_col4\" class=\"data row8 col4\" >19.400000</td>\n",
       "      <td id=\"T_6b3f4_row8_col5\" class=\"data row8 col5\" >20.600000</td>\n",
       "      <td id=\"T_6b3f4_row8_col6\" class=\"data row8 col6\" >27.500000</td>\n",
       "      <td id=\"T_6b3f4_row8_col7\" class=\"data row8 col7\" >43.100000</td>\n",
       "    </tr>\n",
       "    <tr>\n",
       "      <th id=\"T_6b3f4_level0_row9\" class=\"row_heading level0 row9\" >79</th>\n",
       "      <td id=\"T_6b3f4_row9_col0\" class=\"data row9 col0\" >26.000000</td>\n",
       "      <td id=\"T_6b3f4_row9_col1\" class=\"data row9 col1\" >24.903846</td>\n",
       "      <td id=\"T_6b3f4_row9_col2\" class=\"data row9 col2\" >7.048772</td>\n",
       "      <td id=\"T_6b3f4_row9_col3\" class=\"data row9 col3\" >15.500000</td>\n",
       "      <td id=\"T_6b3f4_row9_col4\" class=\"data row9 col4\" >18.675000</td>\n",
       "      <td id=\"T_6b3f4_row9_col5\" class=\"data row9 col5\" >23.100000</td>\n",
       "      <td id=\"T_6b3f4_row9_col6\" class=\"data row9 col6\" >31.125000</td>\n",
       "      <td id=\"T_6b3f4_row9_col7\" class=\"data row9 col7\" >37.300000</td>\n",
       "    </tr>\n",
       "    <tr>\n",
       "      <th id=\"T_6b3f4_level0_row10\" class=\"row_heading level0 row10\" >80</th>\n",
       "      <td id=\"T_6b3f4_row10_col0\" class=\"data row10 col0\" >28.000000</td>\n",
       "      <td id=\"T_6b3f4_row10_col1\" class=\"data row10 col1\" >33.675000</td>\n",
       "      <td id=\"T_6b3f4_row10_col2\" class=\"data row10 col2\" >7.166156</td>\n",
       "      <td id=\"T_6b3f4_row10_col3\" class=\"data row10 col3\" >19.100000</td>\n",
       "      <td id=\"T_6b3f4_row10_col4\" class=\"data row10 col4\" >29.350000</td>\n",
       "      <td id=\"T_6b3f4_row10_col5\" class=\"data row10 col5\" >32.550000</td>\n",
       "      <td id=\"T_6b3f4_row10_col6\" class=\"data row10 col6\" >38.775000</td>\n",
       "      <td id=\"T_6b3f4_row10_col7\" class=\"data row10 col7\" >46.600000</td>\n",
       "    </tr>\n",
       "    <tr>\n",
       "      <th id=\"T_6b3f4_level0_row11\" class=\"row_heading level0 row11\" >81</th>\n",
       "      <td id=\"T_6b3f4_row11_col0\" class=\"data row11 col0\" >26.000000</td>\n",
       "      <td id=\"T_6b3f4_row11_col1\" class=\"data row11 col1\" >30.665385</td>\n",
       "      <td id=\"T_6b3f4_row11_col2\" class=\"data row11 col2\" >5.685205</td>\n",
       "      <td id=\"T_6b3f4_row11_col3\" class=\"data row11 col3\" >17.600000</td>\n",
       "      <td id=\"T_6b3f4_row11_col4\" class=\"data row11 col4\" >26.750000</td>\n",
       "      <td id=\"T_6b3f4_row11_col5\" class=\"data row11 col5\" >32.000000</td>\n",
       "      <td id=\"T_6b3f4_row11_col6\" class=\"data row11 col6\" >34.475000</td>\n",
       "      <td id=\"T_6b3f4_row11_col7\" class=\"data row11 col7\" >39.100000</td>\n",
       "    </tr>\n",
       "    <tr>\n",
       "      <th id=\"T_6b3f4_level0_row12\" class=\"row_heading level0 row12\" >82</th>\n",
       "      <td id=\"T_6b3f4_row12_col0\" class=\"data row12 col0\" >28.000000</td>\n",
       "      <td id=\"T_6b3f4_row12_col1\" class=\"data row12 col1\" >31.750000</td>\n",
       "      <td id=\"T_6b3f4_row12_col2\" class=\"data row12 col2\" >5.211277</td>\n",
       "      <td id=\"T_6b3f4_row12_col3\" class=\"data row12 col3\" >23.000000</td>\n",
       "      <td id=\"T_6b3f4_row12_col4\" class=\"data row12 col4\" >27.000000</td>\n",
       "      <td id=\"T_6b3f4_row12_col5\" class=\"data row12 col5\" >31.500000</td>\n",
       "      <td id=\"T_6b3f4_row12_col6\" class=\"data row12 col6\" >36.000000</td>\n",
       "      <td id=\"T_6b3f4_row12_col7\" class=\"data row12 col7\" >44.000000</td>\n",
       "    </tr>\n",
       "  </tbody>\n",
       "</table>\n"
      ],
      "text/plain": [
       "<pandas.io.formats.style.Styler at 0x208d8c4ff10>"
      ]
     },
     "execution_count": 15,
     "metadata": {},
     "output_type": "execute_result"
    }
   ],
   "source": [
    "df.groupby('model_year')['mpg'].describe().style.background_gradient(cmap = \"coolwarm\")"
   ]
  },
  {
   "cell_type": "code",
   "execution_count": 16,
   "id": "6608428e",
   "metadata": {},
   "outputs": [
    {
     "data": {
      "image/png": "[encoded data removed]",
      "text/plain": [
       "<Figure size 640x480 with 1 Axes>"
      ]
     },
     "metadata": {},
     "output_type": "display_data"
    }
   ],
   "source": [
    "sns.scatterplot(x = \"horsepower\",y = \"mpg\",hue = \"model_year\",data = df,palette = \"coolwarm\")\n",
    "plt.show()"
   ]
  },
  {
   "cell_type": "code",
   "execution_count": 17,
   "id": "b6d49d0c",
   "metadata": {},
   "outputs": [
    {
     "data": {
      "text/html": [
       "<style type=\"text/css\">\n",
       "#T_f1173_row0_col0, #T_f1173_row1_col2, #T_f1173_row2_col1, #T_f1173_row2_col3, #T_f1173_row2_col4, #T_f1173_row2_col5, #T_f1173_row2_col6, #T_f1173_row2_col7 {\n",
       "  background-color: #3b4cc0;\n",
       "  color: #f1f1f1;\n",
       "}\n",
       "#T_f1173_row0_col1 {\n",
       "  background-color: #f08a6c;\n",
       "  color: #f1f1f1;\n",
       "}\n",
       "#T_f1173_row0_col2, #T_f1173_row1_col1, #T_f1173_row1_col3, #T_f1173_row1_col4, #T_f1173_row1_col5, #T_f1173_row1_col6, #T_f1173_row1_col7, #T_f1173_row2_col0 {\n",
       "  background-color: #b40426;\n",
       "  color: #f1f1f1;\n",
       "}\n",
       "#T_f1173_row0_col3 {\n",
       "  background-color: #ee8468;\n",
       "  color: #f1f1f1;\n",
       "}\n",
       "#T_f1173_row0_col4 {\n",
       "  background-color: #f08b6e;\n",
       "  color: #f1f1f1;\n",
       "}\n",
       "#T_f1173_row0_col5 {\n",
       "  background-color: #f7b89c;\n",
       "  color: #000000;\n",
       "}\n",
       "#T_f1173_row0_col6 {\n",
       "  background-color: #f7aa8c;\n",
       "  color: #000000;\n",
       "}\n",
       "#T_f1173_row0_col7 {\n",
       "  background-color: #f7ad90;\n",
       "  color: #000000;\n",
       "}\n",
       "#T_f1173_row1_col0 {\n",
       "  background-color: #5673e0;\n",
       "  color: #f1f1f1;\n",
       "}\n",
       "#T_f1173_row2_col2 {\n",
       "  background-color: #c0d4f5;\n",
       "  color: #000000;\n",
       "}\n",
       "</style>\n",
       "<table id=\"T_f1173\">\n",
       "  <thead>\n",
       "    <tr>\n",
       "      <th class=\"blank level0\" >&nbsp;</th>\n",
       "      <th id=\"T_f1173_level0_col0\" class=\"col_heading level0 col0\" >count</th>\n",
       "      <th id=\"T_f1173_level0_col1\" class=\"col_heading level0 col1\" >mean</th>\n",
       "      <th id=\"T_f1173_level0_col2\" class=\"col_heading level0 col2\" >std</th>\n",
       "      <th id=\"T_f1173_level0_col3\" class=\"col_heading level0 col3\" >min</th>\n",
       "      <th id=\"T_f1173_level0_col4\" class=\"col_heading level0 col4\" >25%</th>\n",
       "      <th id=\"T_f1173_level0_col5\" class=\"col_heading level0 col5\" >50%</th>\n",
       "      <th id=\"T_f1173_level0_col6\" class=\"col_heading level0 col6\" >75%</th>\n",
       "      <th id=\"T_f1173_level0_col7\" class=\"col_heading level0 col7\" >max</th>\n",
       "    </tr>\n",
       "    <tr>\n",
       "      <th class=\"index_name level0\" >origin</th>\n",
       "      <th class=\"blank col0\" >&nbsp;</th>\n",
       "      <th class=\"blank col1\" >&nbsp;</th>\n",
       "      <th class=\"blank col2\" >&nbsp;</th>\n",
       "      <th class=\"blank col3\" >&nbsp;</th>\n",
       "      <th class=\"blank col4\" >&nbsp;</th>\n",
       "      <th class=\"blank col5\" >&nbsp;</th>\n",
       "      <th class=\"blank col6\" >&nbsp;</th>\n",
       "      <th class=\"blank col7\" >&nbsp;</th>\n",
       "    </tr>\n",
       "  </thead>\n",
       "  <tbody>\n",
       "    <tr>\n",
       "      <th id=\"T_f1173_level0_row0\" class=\"row_heading level0 row0\" >europe</th>\n",
       "      <td id=\"T_f1173_row0_col0\" class=\"data row0 col0\" >60.000000</td>\n",
       "      <td id=\"T_f1173_row0_col1\" class=\"data row0 col1\" >28.111667</td>\n",
       "      <td id=\"T_f1173_row0_col2\" class=\"data row0 col2\" >7.065315</td>\n",
       "      <td id=\"T_f1173_row0_col3\" class=\"data row0 col3\" >16.200000</td>\n",
       "      <td id=\"T_f1173_row0_col4\" class=\"data row0 col4\" >23.000000</td>\n",
       "      <td id=\"T_f1173_row0_col5\" class=\"data row0 col5\" >27.000000</td>\n",
       "      <td id=\"T_f1173_row0_col6\" class=\"data row0 col6\" >31.125000</td>\n",
       "      <td id=\"T_f1173_row0_col7\" class=\"data row0 col7\" >44.300000</td>\n",
       "    </tr>\n",
       "    <tr>\n",
       "      <th id=\"T_f1173_level0_row1\" class=\"row_heading level0 row1\" >japan</th>\n",
       "      <td id=\"T_f1173_row1_col0\" class=\"data row1 col0\" >75.000000</td>\n",
       "      <td id=\"T_f1173_row1_col1\" class=\"data row1 col1\" >30.260000</td>\n",
       "      <td id=\"T_f1173_row1_col2\" class=\"data row1 col2\" >6.168096</td>\n",
       "      <td id=\"T_f1173_row1_col3\" class=\"data row1 col3\" >18.000000</td>\n",
       "      <td id=\"T_f1173_row1_col4\" class=\"data row1 col4\" >25.200000</td>\n",
       "      <td id=\"T_f1173_row1_col5\" class=\"data row1 col5\" >31.300000</td>\n",
       "      <td id=\"T_f1173_row1_col6\" class=\"data row1 col6\" >33.950000</td>\n",
       "      <td id=\"T_f1173_row1_col7\" class=\"data row1 col7\" >46.600000</td>\n",
       "    </tr>\n",
       "    <tr>\n",
       "      <th id=\"T_f1173_level0_row2\" class=\"row_heading level0 row2\" >usa</th>\n",
       "      <td id=\"T_f1173_row2_col0\" class=\"data row2 col0\" >223.000000</td>\n",
       "      <td id=\"T_f1173_row2_col1\" class=\"data row2 col1\" >20.117040</td>\n",
       "      <td id=\"T_f1173_row2_col2\" class=\"data row2 col2\" >6.526431</td>\n",
       "      <td id=\"T_f1173_row2_col3\" class=\"data row2 col3\" >9.000000</td>\n",
       "      <td id=\"T_f1173_row2_col4\" class=\"data row2 col4\" >15.000000</td>\n",
       "      <td id=\"T_f1173_row2_col5\" class=\"data row2 col5\" >18.500000</td>\n",
       "      <td id=\"T_f1173_row2_col6\" class=\"data row2 col6\" >24.400000</td>\n",
       "      <td id=\"T_f1173_row2_col7\" class=\"data row2 col7\" >39.000000</td>\n",
       "    </tr>\n",
       "  </tbody>\n",
       "</table>\n"
      ],
      "text/plain": [
       "<pandas.io.formats.style.Styler at 0x208da16d490>"
      ]
     },
     "execution_count": 17,
     "metadata": {},
     "output_type": "execute_result"
    }
   ],
   "source": [
    "df.groupby('origin')['mpg'].describe().style.background_gradient(cmap = \"coolwarm\")"
   ]
  },
  {
   "cell_type": "code",
   "execution_count": 18,
   "id": "e8eaf567",
   "metadata": {},
   "outputs": [
    {
     "data": {
      "image/png": "[encoded data removed]",
      "text/plain": [
       "<Figure size 640x480 with 1 Axes>"
      ]
     },
     "metadata": {},
     "output_type": "display_data"
    }
   ],
   "source": [
    "sns.scatterplot(x = \"horsepower\",y = \"mpg\",hue = \"origin\",data = df,palette = \"coolwarm\")\n",
    "plt.show()"
   ]
  },
  {
   "cell_type": "code",
   "execution_count": 19,
   "id": "a99af155",
   "metadata": {},
   "outputs": [
    {
     "data": {
      "text/html": [
       "<div>\n",
       "<style scoped>\n",
       "    .dataframe tbody tr th:only-of-type {\n",
       "        vertical-align: middle;\n",
       "    }\n",
       "\n",
       "    .dataframe tbody tr th {\n",
       "        vertical-align: top;\n",
       "    }\n",
       "\n",
       "    .dataframe thead th {\n",
       "        text-align: right;\n",
       "    }\n",
       "</style>\n",
       "<table border=\"1\" class=\"dataframe\">\n",
       "  <thead>\n",
       "    <tr style=\"text-align: right;\">\n",
       "      <th></th>\n",
       "      <th>mpg</th>\n",
       "      <th>cylinders</th>\n",
       "      <th>displacement</th>\n",
       "      <th>horsepower</th>\n",
       "      <th>weight</th>\n",
       "      <th>acceleration</th>\n",
       "      <th>model_year</th>\n",
       "      <th>origin</th>\n",
       "      <th>name</th>\n",
       "    </tr>\n",
       "  </thead>\n",
       "  <tbody>\n",
       "    <tr>\n",
       "      <th>0</th>\n",
       "      <td>18.0</td>\n",
       "      <td>8</td>\n",
       "      <td>307.0</td>\n",
       "      <td>130.0</td>\n",
       "      <td>3504</td>\n",
       "      <td>12.0</td>\n",
       "      <td>70</td>\n",
       "      <td>usa</td>\n",
       "      <td>chevrolet chevelle malibu</td>\n",
       "    </tr>\n",
       "    <tr>\n",
       "      <th>1</th>\n",
       "      <td>15.0</td>\n",
       "      <td>8</td>\n",
       "      <td>350.0</td>\n",
       "      <td>165.0</td>\n",
       "      <td>3693</td>\n",
       "      <td>11.5</td>\n",
       "      <td>70</td>\n",
       "      <td>usa</td>\n",
       "      <td>buick skylark 320</td>\n",
       "    </tr>\n",
       "    <tr>\n",
       "      <th>2</th>\n",
       "      <td>18.0</td>\n",
       "      <td>8</td>\n",
       "      <td>318.0</td>\n",
       "      <td>150.0</td>\n",
       "      <td>3436</td>\n",
       "      <td>11.0</td>\n",
       "      <td>70</td>\n",
       "      <td>usa</td>\n",
       "      <td>plymouth satellite</td>\n",
       "    </tr>\n",
       "    <tr>\n",
       "      <th>3</th>\n",
       "      <td>16.0</td>\n",
       "      <td>8</td>\n",
       "      <td>304.0</td>\n",
       "      <td>150.0</td>\n",
       "      <td>3433</td>\n",
       "      <td>12.0</td>\n",
       "      <td>70</td>\n",
       "      <td>usa</td>\n",
       "      <td>amc rebel sst</td>\n",
       "    </tr>\n",
       "    <tr>\n",
       "      <th>4</th>\n",
       "      <td>17.0</td>\n",
       "      <td>8</td>\n",
       "      <td>302.0</td>\n",
       "      <td>140.0</td>\n",
       "      <td>3449</td>\n",
       "      <td>10.5</td>\n",
       "      <td>70</td>\n",
       "      <td>usa</td>\n",
       "      <td>ford torino</td>\n",
       "    </tr>\n",
       "  </tbody>\n",
       "</table>\n",
       "</div>"
      ],
      "text/plain": [
       "    mpg  cylinders  displacement  horsepower  weight  acceleration  \\\n",
       "0  18.0          8         307.0       130.0    3504          12.0   \n",
       "1  15.0          8         350.0       165.0    3693          11.5   \n",
       "2  18.0          8         318.0       150.0    3436          11.0   \n",
       "3  16.0          8         304.0       150.0    3433          12.0   \n",
       "4  17.0          8         302.0       140.0    3449          10.5   \n",
       "\n",
       "   model_year origin                       name  \n",
       "0          70    usa  chevrolet chevelle malibu  \n",
       "1          70    usa          buick skylark 320  \n",
       "2          70    usa         plymouth satellite  \n",
       "3          70    usa              amc rebel sst  \n",
       "4          70    usa                ford torino  "
      ]
     },
     "execution_count": 19,
     "metadata": {},
     "output_type": "execute_result"
    }
   ],
   "source": [
    "mpg.head()"
   ]
  },
  {
   "cell_type": "code",
   "execution_count": 20,
   "id": "32f1e33e",
   "metadata": {},
   "outputs": [],
   "source": [
    "num_features = ['displacement','horsepower','weight','acceleration']\n",
    "nominal_cat_features = ['origin']\n",
    "ordinal_cat_features = ['cylinders']\n",
    "custom_trans_features = ['name']\n",
    "skip_features = ['model_year']"
   ]
  },
  {
   "cell_type": "code",
   "execution_count": 21,
   "id": "3dbd350b",
   "metadata": {},
   "outputs": [],
   "source": [
    "from sklearn.impute import SimpleImputer\n",
    "from sklearn.preprocessing import StandardScaler\n",
    "from sklearn.preprocessing import OneHotEncoder\n",
    "from sklearn.preprocessing import OrdinalEncoder\n",
    "from sklearn.pipeline import Pipeline\n",
    "from sklearn.base import BaseEstimator, TransformerMixin\n",
    "from sklearn.compose import ColumnTransformer\n",
    "\n",
    "from sklearn.linear_model import LinearRegression\n",
    "from sklearn.metrics import mean_squared_error\n",
    "from sklearn.metrics import r2_score"
   ]
  },
  {
   "cell_type": "code",
   "execution_count": 22,
   "id": "c6cd175e",
   "metadata": {},
   "outputs": [],
   "source": [
    "def rmse(y, y_hat):\n",
    "    return np.sqrt(mean_squared_error(y, y_hat))"
   ]
  },
  {
   "cell_type": "code",
   "execution_count": 23,
   "id": "7a53640d",
   "metadata": {},
   "outputs": [],
   "source": [
    "class CompanyNameExtracter(BaseEstimator,TransformerMixin):\n",
    "    def fit(self,X,Y = None):\n",
    "        return self\n",
    "    def transform(self,X,Y = None):\n",
    "        X = X.copy()\n",
    "        X.loc[:,'name'] = X[\"name\"].apply(self.process_string)\n",
    "        return X\n",
    "    @staticmethod\n",
    "    def process_string(value):\n",
    "        map_d = {\n",
    "            'maxda':'mazda',\n",
    "            'toyouta':'toyota',\n",
    "            'vokswagen':'vw',\n",
    "            'volkswagen':'vw'\n",
    "        }\n",
    "        result = value.lower().strip().split(\" \")\n",
    "        name = result[0]\n",
    "        if name in map_d.keys():\n",
    "            name = map_d[name]\n",
    "        return name"
   ]
  },
  {
   "cell_type": "code",
   "execution_count": 24,
   "id": "42ef178b",
   "metadata": {},
   "outputs": [
    {
     "data": {
      "text/html": [
       "<div>\n",
       "<style scoped>\n",
       "    .dataframe tbody tr th:only-of-type {\n",
       "        vertical-align: middle;\n",
       "    }\n",
       "\n",
       "    .dataframe tbody tr th {\n",
       "        vertical-align: top;\n",
       "    }\n",
       "\n",
       "    .dataframe thead th {\n",
       "        text-align: right;\n",
       "    }\n",
       "</style>\n",
       "<table border=\"1\" class=\"dataframe\">\n",
       "  <thead>\n",
       "    <tr style=\"text-align: right;\">\n",
       "      <th></th>\n",
       "      <th>cylinders</th>\n",
       "      <th>displacement</th>\n",
       "      <th>horsepower</th>\n",
       "      <th>weight</th>\n",
       "      <th>acceleration</th>\n",
       "      <th>model_year</th>\n",
       "      <th>origin</th>\n",
       "      <th>name</th>\n",
       "    </tr>\n",
       "  </thead>\n",
       "  <tbody>\n",
       "    <tr>\n",
       "      <th>380</th>\n",
       "      <td>4</td>\n",
       "      <td>120.0</td>\n",
       "      <td>88.0</td>\n",
       "      <td>2160</td>\n",
       "      <td>14.5</td>\n",
       "      <td>82</td>\n",
       "      <td>japan</td>\n",
       "      <td>nissan stanza xe</td>\n",
       "    </tr>\n",
       "    <tr>\n",
       "      <th>131</th>\n",
       "      <td>4</td>\n",
       "      <td>71.0</td>\n",
       "      <td>65.0</td>\n",
       "      <td>1836</td>\n",
       "      <td>21.0</td>\n",
       "      <td>74</td>\n",
       "      <td>japan</td>\n",
       "      <td>toyota corolla 1200</td>\n",
       "    </tr>\n",
       "  </tbody>\n",
       "</table>\n",
       "</div>"
      ],
      "text/plain": [
       "     cylinders  displacement  horsepower  weight  acceleration  model_year  \\\n",
       "380          4         120.0        88.0    2160          14.5          82   \n",
       "131          4          71.0        65.0    1836          21.0          74   \n",
       "\n",
       "    origin                 name  \n",
       "380  japan     nissan stanza xe  \n",
       "131  japan  toyota corolla 1200  "
      ]
     },
     "execution_count": 24,
     "metadata": {},
     "output_type": "execute_result"
    }
   ],
   "source": [
    "trans = CompanyNameExtracter()\n",
    "temp_tr = trans.fit_transform(X_train)\n",
    "X_train.tail(2)"
   ]
  },
  {
   "cell_type": "code",
   "execution_count": 25,
   "id": "13a11b54",
   "metadata": {},
   "outputs": [
    {
     "data": {
      "text/html": [
       "<div>\n",
       "<style scoped>\n",
       "    .dataframe tbody tr th:only-of-type {\n",
       "        vertical-align: middle;\n",
       "    }\n",
       "\n",
       "    .dataframe tbody tr th {\n",
       "        vertical-align: top;\n",
       "    }\n",
       "\n",
       "    .dataframe thead th {\n",
       "        text-align: right;\n",
       "    }\n",
       "</style>\n",
       "<table border=\"1\" class=\"dataframe\">\n",
       "  <thead>\n",
       "    <tr style=\"text-align: right;\">\n",
       "      <th></th>\n",
       "      <th>cylinders</th>\n",
       "      <th>displacement</th>\n",
       "      <th>horsepower</th>\n",
       "      <th>weight</th>\n",
       "      <th>acceleration</th>\n",
       "      <th>model_year</th>\n",
       "      <th>origin</th>\n",
       "      <th>name</th>\n",
       "    </tr>\n",
       "  </thead>\n",
       "  <tbody>\n",
       "    <tr>\n",
       "      <th>380</th>\n",
       "      <td>4</td>\n",
       "      <td>120.0</td>\n",
       "      <td>88.0</td>\n",
       "      <td>2160</td>\n",
       "      <td>14.5</td>\n",
       "      <td>82</td>\n",
       "      <td>japan</td>\n",
       "      <td>nissan</td>\n",
       "    </tr>\n",
       "    <tr>\n",
       "      <th>131</th>\n",
       "      <td>4</td>\n",
       "      <td>71.0</td>\n",
       "      <td>65.0</td>\n",
       "      <td>1836</td>\n",
       "      <td>21.0</td>\n",
       "      <td>74</td>\n",
       "      <td>japan</td>\n",
       "      <td>toyota</td>\n",
       "    </tr>\n",
       "  </tbody>\n",
       "</table>\n",
       "</div>"
      ],
      "text/plain": [
       "     cylinders  displacement  horsepower  weight  acceleration  model_year  \\\n",
       "380          4         120.0        88.0    2160          14.5          82   \n",
       "131          4          71.0        65.0    1836          21.0          74   \n",
       "\n",
       "    origin    name  \n",
       "380  japan  nissan  \n",
       "131  japan  toyota  "
      ]
     },
     "execution_count": 25,
     "metadata": {},
     "output_type": "execute_result"
    }
   ],
   "source": [
    "temp_tr.tail(2)"
   ]
  },
  {
   "cell_type": "code",
   "execution_count": 26,
   "id": "f011e659",
   "metadata": {},
   "outputs": [],
   "source": [
    "num_features = ['displacement','horsepower','weight','acceleration']\n",
    "nominal_cat_features = ['origin']\n",
    "ord_features = ['name']\n",
    "pass_through_cols = ['cylinders']\n",
    "drop_cols = ['model_year']"
   ]
  },
  {
   "cell_type": "code",
   "execution_count": 27,
   "id": "0b607625",
   "metadata": {},
   "outputs": [],
   "source": [
    "numerical_pipeline = Pipeline([(\"imputer\",SimpleImputer()),(\"std scaler\", StandardScaler())])\n",
    "ordinal_pipeline = Pipeline([(\"extract company name\",CompanyNameExtracter()),\n",
    "                             (\"ordinal encoder\", OrdinalEncoder()),\n",
    "                             (\"std scaling\", StandardScaler())])\n",
    "nominal_pipeline = Pipeline([(\"one hot encoding\", OneHotEncoder())])"
   ]
  },
  {
   "cell_type": "code",
   "execution_count": 28,
   "id": "f00f113c",
   "metadata": {},
   "outputs": [],
   "source": [
    "pipeline = ColumnTransformer([\n",
    "    (\"numerical pipeline\",numerical_pipeline,num_features),\n",
    "    (\"ordinal pipeline\",ordinal_pipeline,ord_features),\n",
    "    (\"nominal pipeline\",nominal_pipeline,nominal_cat_features),\n",
    "    (\"passing columns\",\"passthrough\",pass_through_cols),\n",
    "    (\"drop columns\",\"drop\",drop_cols)\n",
    "])\n",
    "\n",
    "output_cols = ['displacement','horsepower','weight','acceleration',\n",
    "              \"name\",\"europe\",\"japan\",\"usa\",\"cylinders\"]"
   ]
  },
  {
   "cell_type": "code",
   "execution_count": 29,
   "id": "80a4be23",
   "metadata": {},
   "outputs": [
    {
     "data": {
      "text/html": [
       "<div>\n",
       "<style scoped>\n",
       "    .dataframe tbody tr th:only-of-type {\n",
       "        vertical-align: middle;\n",
       "    }\n",
       "\n",
       "    .dataframe tbody tr th {\n",
       "        vertical-align: top;\n",
       "    }\n",
       "\n",
       "    .dataframe thead th {\n",
       "        text-align: right;\n",
       "    }\n",
       "</style>\n",
       "<table border=\"1\" class=\"dataframe\">\n",
       "  <thead>\n",
       "    <tr style=\"text-align: right;\">\n",
       "      <th></th>\n",
       "      <th>cylinders</th>\n",
       "      <th>displacement</th>\n",
       "      <th>horsepower</th>\n",
       "      <th>weight</th>\n",
       "      <th>acceleration</th>\n",
       "      <th>model_year</th>\n",
       "      <th>origin</th>\n",
       "      <th>name</th>\n",
       "    </tr>\n",
       "  </thead>\n",
       "  <tbody>\n",
       "    <tr>\n",
       "      <th>178</th>\n",
       "      <td>4</td>\n",
       "      <td>120.0</td>\n",
       "      <td>88.0</td>\n",
       "      <td>2957</td>\n",
       "      <td>17.0</td>\n",
       "      <td>75</td>\n",
       "      <td>europe</td>\n",
       "      <td>peugeot 504</td>\n",
       "    </tr>\n",
       "    <tr>\n",
       "      <th>299</th>\n",
       "      <td>4</td>\n",
       "      <td>141.0</td>\n",
       "      <td>71.0</td>\n",
       "      <td>3190</td>\n",
       "      <td>24.8</td>\n",
       "      <td>79</td>\n",
       "      <td>europe</td>\n",
       "      <td>peugeot 504</td>\n",
       "    </tr>\n",
       "  </tbody>\n",
       "</table>\n",
       "</div>"
      ],
      "text/plain": [
       "     cylinders  displacement  horsepower  weight  acceleration  model_year  \\\n",
       "178          4         120.0        88.0    2957          17.0          75   \n",
       "299          4         141.0        71.0    3190          24.8          79   \n",
       "\n",
       "     origin         name  \n",
       "178  europe  peugeot 504  \n",
       "299  europe  peugeot 504  "
      ]
     },
     "execution_count": 29,
     "metadata": {},
     "output_type": "execute_result"
    }
   ],
   "source": [
    "X_train.head(2)"
   ]
  },
  {
   "cell_type": "code",
   "execution_count": 30,
   "id": "7beaf427",
   "metadata": {},
   "outputs": [
    {
     "data": {
      "text/html": [
       "<div>\n",
       "<style scoped>\n",
       "    .dataframe tbody tr th:only-of-type {\n",
       "        vertical-align: middle;\n",
       "    }\n",
       "\n",
       "    .dataframe tbody tr th {\n",
       "        vertical-align: top;\n",
       "    }\n",
       "\n",
       "    .dataframe thead th {\n",
       "        text-align: right;\n",
       "    }\n",
       "</style>\n",
       "<table border=\"1\" class=\"dataframe\">\n",
       "  <thead>\n",
       "    <tr style=\"text-align: right;\">\n",
       "      <th></th>\n",
       "      <th>displacement</th>\n",
       "      <th>horsepower</th>\n",
       "      <th>weight</th>\n",
       "      <th>acceleration</th>\n",
       "      <th>name</th>\n",
       "      <th>europe</th>\n",
       "      <th>japan</th>\n",
       "      <th>usa</th>\n",
       "      <th>cylinders</th>\n",
       "    </tr>\n",
       "  </thead>\n",
       "  <tbody>\n",
       "    <tr>\n",
       "      <th>0</th>\n",
       "      <td>-0.698363</td>\n",
       "      <td>-0.425187</td>\n",
       "      <td>-0.009257</td>\n",
       "      <td>0.512188</td>\n",
       "      <td>0.767647</td>\n",
       "      <td>1.0</td>\n",
       "      <td>0.0</td>\n",
       "      <td>0.0</td>\n",
       "      <td>4.0</td>\n",
       "    </tr>\n",
       "    <tr>\n",
       "      <th>1</th>\n",
       "      <td>-0.495700</td>\n",
       "      <td>-0.874554</td>\n",
       "      <td>0.266903</td>\n",
       "      <td>3.328719</td>\n",
       "      <td>0.767647</td>\n",
       "      <td>1.0</td>\n",
       "      <td>0.0</td>\n",
       "      <td>0.0</td>\n",
       "      <td>4.0</td>\n",
       "    </tr>\n",
       "  </tbody>\n",
       "</table>\n",
       "</div>"
      ],
      "text/plain": [
       "   displacement  horsepower    weight  acceleration      name  europe  japan  \\\n",
       "0     -0.698363   -0.425187 -0.009257      0.512188  0.767647     1.0    0.0   \n",
       "1     -0.495700   -0.874554  0.266903      3.328719  0.767647     1.0    0.0   \n",
       "\n",
       "   usa  cylinders  \n",
       "0  0.0        4.0  \n",
       "1  0.0        4.0  "
      ]
     },
     "execution_count": 30,
     "metadata": {},
     "output_type": "execute_result"
    }
   ],
   "source": [
    "X_train_tr = pipeline.fit_transform(X_train)\n",
    "X_train_tr = pd.DataFrame(X_train_tr,columns = output_cols)\n",
    "X_train_tr.head(2)"
   ]
  },
  {
   "cell_type": "code",
   "execution_count": 31,
   "id": "dc27acd4",
   "metadata": {},
   "outputs": [
    {
     "data": {
      "text/html": [
       "<div>\n",
       "<style scoped>\n",
       "    .dataframe tbody tr th:only-of-type {\n",
       "        vertical-align: middle;\n",
       "    }\n",
       "\n",
       "    .dataframe tbody tr th {\n",
       "        vertical-align: top;\n",
       "    }\n",
       "\n",
       "    .dataframe thead th {\n",
       "        text-align: right;\n",
       "    }\n",
       "</style>\n",
       "<table border=\"1\" class=\"dataframe\">\n",
       "  <thead>\n",
       "    <tr style=\"text-align: right;\">\n",
       "      <th></th>\n",
       "      <th>displacement</th>\n",
       "      <th>horsepower</th>\n",
       "      <th>weight</th>\n",
       "      <th>acceleration</th>\n",
       "      <th>name</th>\n",
       "      <th>europe</th>\n",
       "      <th>japan</th>\n",
       "      <th>usa</th>\n",
       "      <th>cylinders</th>\n",
       "    </tr>\n",
       "  </thead>\n",
       "  <tbody>\n",
       "    <tr>\n",
       "      <th>0</th>\n",
       "      <td>-0.581526</td>\n",
       "      <td>-0.487122</td>\n",
       "      <td>-0.348657</td>\n",
       "      <td>-0.018187</td>\n",
       "      <td>0.116030</td>\n",
       "      <td>0.0</td>\n",
       "      <td>0.0</td>\n",
       "      <td>1.0</td>\n",
       "      <td>4.0</td>\n",
       "    </tr>\n",
       "    <tr>\n",
       "      <th>1</th>\n",
       "      <td>-0.978914</td>\n",
       "      <td>-1.002465</td>\n",
       "      <td>-1.108183</td>\n",
       "      <td>0.900753</td>\n",
       "      <td>1.276331</td>\n",
       "      <td>0.0</td>\n",
       "      <td>1.0</td>\n",
       "      <td>0.0</td>\n",
       "      <td>4.0</td>\n",
       "    </tr>\n",
       "  </tbody>\n",
       "</table>\n",
       "</div>"
      ],
      "text/plain": [
       "   displacement  horsepower    weight  acceleration      name  europe  japan  \\\n",
       "0     -0.581526   -0.487122 -0.348657     -0.018187  0.116030     0.0    0.0   \n",
       "1     -0.978914   -1.002465 -1.108183      0.900753  1.276331     0.0    1.0   \n",
       "\n",
       "   usa  cylinders  \n",
       "0  1.0        4.0  \n",
       "1  0.0        4.0  "
      ]
     },
     "execution_count": 31,
     "metadata": {},
     "output_type": "execute_result"
    }
   ],
   "source": [
    "X_test_tr = pipeline.fit_transform(X_test)\n",
    "X_test_tr = pd.DataFrame(X_test_tr,columns = output_cols)\n",
    "X_test_tr.head(2)"
   ]
  },
  {
   "cell_type": "code",
   "execution_count": 44,
   "id": "ecf15f76",
   "metadata": {},
   "outputs": [],
   "source": [
    "from sklearn.linear_model import SGDRegressor\n",
    "from sklearn.svm import SVR\n",
    "from sklearn.tree import DecisionTreeRegressor\n",
    "from sklearn.ensemble import RandomForestRegressor"
   ]
  },
  {
   "cell_type": "code",
   "execution_count": 45,
   "id": "59ef1fc0",
   "metadata": {},
   "outputs": [],
   "source": [
    "def generate_models_report(models,X_train_tr,Y_train,X_test_tr,Y_test):\n",
    "    width = 116\n",
    "    print(\"_\"*width)\n",
    "    title = \"|{:^30}|{:^20}|{:^20}|{:^20}|{:^20}|\"\n",
    "    print(title.format(\"Model Name\",\"Train Error\",\"Test Error\",\"Train Accuracy\",\"Test Accuracy\"))\n",
    "    print(\"_\"*width)\n",
    "    row = \"|{:^30}|{:^20.2f}|{:^20.2f}|{:^20.2f}|{:^20.2f}|\"\n",
    "    for model in models:\n",
    "        model.fit(X_train_tr,Y_train)\n",
    "        y_hat_train = model.predict(X_train_tr)\n",
    "        y_hat_test = model.predict(X_test_tr)\n",
    "        train_error = rmse(Y_train,y_hat_train)\n",
    "        test_error = rmse(Y_test,y_hat_test)\n",
    "        train_accuracy = r2_score(Y_train,y_hat_train)\n",
    "        test_accuracy = r2_score(Y_test,y_hat_test)\n",
    "        model_name = str(model)\n",
    "        print(row.format(model_name,train_error,test_error,train_accuracy*100,test_accuracy*100))\n",
    "        print(\"_\"*width)"
   ]
  },
  {
   "cell_type": "code",
   "execution_count": 46,
   "id": "eb335849",
   "metadata": {},
   "outputs": [],
   "source": [
    "models = [LinearRegression(),SGDRegressor(),SVR(),DecisionTreeRegressor(), RandomForestRegressor()]"
   ]
  },
  {
   "cell_type": "code",
   "execution_count": 47,
   "id": "2ef7151e",
   "metadata": {},
   "outputs": [
    {
     "name": "stdout",
     "output_type": "stream",
     "text": [
      "____________________________________________________________________________________________________________________\n",
      "|          Model Name          |    Train Error     |     Test Error     |   Train Accuracy   |   Test Accuracy    |\n",
      "____________________________________________________________________________________________________________________\n",
      "|      LinearRegression()      |        4.20        |        3.64        |       71.92        |       69.93        |\n",
      "____________________________________________________________________________________________________________________\n",
      "|        SGDRegressor()        |        4.70        |        3.84        |       64.80        |       66.69        |\n",
      "____________________________________________________________________________________________________________________\n",
      "|            SVR()             |        4.21        |        3.82        |       71.82        |       66.92        |\n",
      "____________________________________________________________________________________________________________________\n",
      "|   DecisionTreeRegressor()    |        0.11        |        5.18        |       99.98        |       39.22        |\n",
      "____________________________________________________________________________________________________________________\n",
      "|   RandomForestRegressor()    |        1.47        |        3.90        |       96.58        |       65.52        |\n",
      "____________________________________________________________________________________________________________________\n"
     ]
    }
   ],
   "source": [
    "generate_models_report(models,X_train_tr,Y_train,X_test_tr,Y_test)"
   ]
  },
  {
   "cell_type": "code",
   "execution_count": 48,
   "id": "90ababfe",
   "metadata": {},
   "outputs": [],
   "source": [
    "from sklearn.linear_model import Ridge\n",
    "from sklearn.model_selection import GridSearchCV\n"
   ]
  },
  {
   "cell_type": "code",
   "execution_count": 49,
   "id": "c344bea3",
   "metadata": {},
   "outputs": [],
   "source": [
    "param_grid = {\n",
    "    'alpha': [0.01, 0.1, 1.0, 10.0], \n",
    "}\n"
   ]
  },
  {
   "cell_type": "code",
   "execution_count": 50,
   "id": "c70e99d3",
   "metadata": {},
   "outputs": [],
   "source": [
    "model = Ridge()\n"
   ]
  },
  {
   "cell_type": "code",
   "execution_count": 51,
   "id": "2a1e3024-b089-46fe-99e6-89573623f4eb",
   "metadata": {},
   "outputs": [],
   "source": [
    "grid_search = GridSearchCV(estimator=model, param_grid=param_grid, cv=5, scoring='neg_mean_squared_error', verbose=1)\n"
   ]
  },
  {
   "cell_type": "code",
   "execution_count": 52,
   "id": "f1ebaf55-cadd-48a9-af95-07768ebf35c1",
   "metadata": {},
   "outputs": [
    {
     "name": "stdout",
     "output_type": "stream",
     "text": [
      "Fitting 5 folds for each of 4 candidates, totalling 20 fits\n"
     ]
    },
    {
     "data": {
      "text/html": [
       "<style>#sk-container-id-1 {color: black;background-color: white;}#sk-container-id-1 pre{padding: 0;}#sk-container-id-1 div.sk-toggleable {background-color: white;}#sk-container-id-1 label.sk-toggleable__label {cursor: pointer;display: block;width: 100%;margin-bottom: 0;padding: 0.3em;box-sizing: border-box;text-align: center;}#sk-container-id-1 label.sk-toggleable__label-arrow:before {content: \"▸\";float: left;margin-right: 0.25em;color: #696969;}#sk-container-id-1 label.sk-toggleable__label-arrow:hover:before {color: black;}#sk-container-id-1 div.sk-estimator:hover label.sk-toggleable__label-arrow:before {color: black;}#sk-container-id-1 div.sk-toggleable__content {max-height: 0;max-width: 0;overflow: hidden;text-align: left;background-color: #f0f8ff;}#sk-container-id-1 div.sk-toggleable__content pre {margin: 0.2em;color: black;border-radius: 0.25em;background-color: #f0f8ff;}#sk-container-id-1 input.sk-toggleable__control:checked~div.sk-toggleable__content {max-height: 200px;max-width: 100%;overflow: auto;}#sk-container-id-1 input.sk-toggleable__control:checked~label.sk-toggleable__label-arrow:before {content: \"▾\";}#sk-container-id-1 div.sk-estimator input.sk-toggleable__control:checked~label.sk-toggleable__label {background-color: #d4ebff;}#sk-container-id-1 div.sk-label input.sk-toggleable__control:checked~label.sk-toggleable__label {background-color: #d4ebff;}#sk-container-id-1 input.sk-hidden--visually {border: 0;clip: rect(1px 1px 1px 1px);clip: rect(1px, 1px, 1px, 1px);height: 1px;margin: -1px;overflow: hidden;padding: 0;position: absolute;width: 1px;}#sk-container-id-1 div.sk-estimator {font-family: monospace;background-color: #f0f8ff;border: 1px dotted black;border-radius: 0.25em;box-sizing: border-box;margin-bottom: 0.5em;}#sk-container-id-1 div.sk-estimator:hover {background-color: #d4ebff;}#sk-container-id-1 div.sk-parallel-item::after {content: \"\";width: 100%;border-bottom: 1px solid gray;flex-grow: 1;}#sk-container-id-1 div.sk-label:hover label.sk-toggleable__label {background-color: #d4ebff;}#sk-container-id-1 div.sk-serial::before {content: \"\";position: absolute;border-left: 1px solid gray;box-sizing: border-box;top: 0;bottom: 0;left: 50%;z-index: 0;}#sk-container-id-1 div.sk-serial {display: flex;flex-direction: column;align-items: center;background-color: white;padding-right: 0.2em;padding-left: 0.2em;position: relative;}#sk-container-id-1 div.sk-item {position: relative;z-index: 1;}#sk-container-id-1 div.sk-parallel {display: flex;align-items: stretch;justify-content: center;background-color: white;position: relative;}#sk-container-id-1 div.sk-item::before, #sk-container-id-1 div.sk-parallel-item::before {content: \"\";position: absolute;border-left: 1px solid gray;box-sizing: border-box;top: 0;bottom: 0;left: 50%;z-index: -1;}#sk-container-id-1 div.sk-parallel-item {display: flex;flex-direction: column;z-index: 1;position: relative;background-color: white;}#sk-container-id-1 div.sk-parallel-item:first-child::after {align-self: flex-end;width: 50%;}#sk-container-id-1 div.sk-parallel-item:last-child::after {align-self: flex-start;width: 50%;}#sk-container-id-1 div.sk-parallel-item:only-child::after {width: 0;}#sk-container-id-1 div.sk-dashed-wrapped {border: 1px dashed gray;margin: 0 0.4em 0.5em 0.4em;box-sizing: border-box;padding-bottom: 0.4em;background-color: white;}#sk-container-id-1 div.sk-label label {font-family: monospace;font-weight: bold;display: inline-block;line-height: 1.2em;}#sk-container-id-1 div.sk-label-container {text-align: center;}#sk-container-id-1 div.sk-container {/* jupyter's `normalize.less` sets `[hidden] { display: none; }` but bootstrap.min.css set `[hidden] { display: none !important; }` so we also need the `!important` here to be able to override the default hidden behavior on the sphinx rendered scikit-learn.org. See: https://github.com/scikit-learn/scikit-learn/issues/21755 */display: inline-block !important;position: relative;}#sk-container-id-1 div.sk-text-repr-fallback {display: none;}</style><div id=\"sk-container-id-1\" class=\"sk-top-container\"><div class=\"sk-text-repr-fallback\"><pre>GridSearchCV(cv=5, estimator=Ridge(),\n",
       "             param_grid={&#x27;alpha&#x27;: [0.01, 0.1, 1.0, 10.0]},\n",
       "             scoring=&#x27;neg_mean_squared_error&#x27;, verbose=1)</pre><b>In a Jupyter environment, please rerun this cell to show the HTML representation or trust the notebook. <br />On GitHub, the HTML representation is unable to render, please try loading this page with nbviewer.org.</b></div><div class=\"sk-container\" hidden><div class=\"sk-item sk-dashed-wrapped\"><div class=\"sk-label-container\"><div class=\"sk-label sk-toggleable\"><input class=\"sk-toggleable__control sk-hidden--visually\" id=\"sk-estimator-id-1\" type=\"checkbox\" ><label for=\"sk-estimator-id-1\" class=\"sk-toggleable__label sk-toggleable__label-arrow\">GridSearchCV</label><div class=\"sk-toggleable__content\"><pre>GridSearchCV(cv=5, estimator=Ridge(),\n",
       "             param_grid={&#x27;alpha&#x27;: [0.01, 0.1, 1.0, 10.0]},\n",
       "             scoring=&#x27;neg_mean_squared_error&#x27;, verbose=1)</pre></div></div></div><div class=\"sk-parallel\"><div class=\"sk-parallel-item\"><div class=\"sk-item\"><div class=\"sk-label-container\"><div class=\"sk-label sk-toggleable\"><input class=\"sk-toggleable__control sk-hidden--visually\" id=\"sk-estimator-id-2\" type=\"checkbox\" ><label for=\"sk-estimator-id-2\" class=\"sk-toggleable__label sk-toggleable__label-arrow\">estimator: Ridge</label><div class=\"sk-toggleable__content\"><pre>Ridge()</pre></div></div></div><div class=\"sk-serial\"><div class=\"sk-item\"><div class=\"sk-estimator sk-toggleable\"><input class=\"sk-toggleable__control sk-hidden--visually\" id=\"sk-estimator-id-3\" type=\"checkbox\" ><label for=\"sk-estimator-id-3\" class=\"sk-toggleable__label sk-toggleable__label-arrow\">Ridge</label><div class=\"sk-toggleable__content\"><pre>Ridge()</pre></div></div></div></div></div></div></div></div></div></div>"
      ],
      "text/plain": [
       "GridSearchCV(cv=5, estimator=Ridge(),\n",
       "             param_grid={'alpha': [0.01, 0.1, 1.0, 10.0]},\n",
       "             scoring='neg_mean_squared_error', verbose=1)"
      ]
     },
     "execution_count": 52,
     "metadata": {},
     "output_type": "execute_result"
    }
   ],
   "source": [
    "grid_search.fit(X_train_tr, Y_train)\n"
   ]
  },
  {
   "cell_type": "code",
   "execution_count": 53,
   "id": "071158c9-8a66-4854-81ff-5a33d14420f2",
   "metadata": {},
   "outputs": [
    {
     "name": "stdout",
     "output_type": "stream",
     "text": [
      "Best Hyperparameters: {'alpha': 10.0}\n"
     ]
    }
   ],
   "source": [
    "best_params = grid_search.best_params_\n",
    "print(\"Best Hyperparameters:\", best_params)\n"
   ]
  },
  {
   "cell_type": "code",
   "execution_count": 54,
   "id": "07f1ae73-1b9a-427a-9c9a-012c6968fd63",
   "metadata": {},
   "outputs": [
    {
     "name": "stdout",
     "output_type": "stream",
     "text": [
      "Best Model: Ridge(alpha=10.0)\n"
     ]
    }
   ],
   "source": [
    "best_model = grid_search.best_estimator_\n",
    "print(\"Best Model:\",best_model)"
   ]
  },
  {
   "cell_type": "code",
   "execution_count": 55,
   "id": "3129e873-111d-4272-8008-6bdb874027d2",
   "metadata": {},
   "outputs": [],
   "source": [
    "y_pred_train = best_model.predict(X_train_tr)\n",
    "y_pred_test = best_model.predict(X_test_tr)"
   ]
  },
  {
   "cell_type": "code",
   "execution_count": 56,
   "id": "79a42a9a-dec3-469c-a651-de4ad5aab193",
   "metadata": {},
   "outputs": [
    {
     "name": "stdout",
     "output_type": "stream",
     "text": [
      "Training Accuracy: 0.7178438201732353\n",
      "Testing Accuracy: 0.6904462373040845\n"
     ]
    }
   ],
   "source": [
    "train_accuracy = r2_score(Y_train,y_pred_train)\n",
    "test_accuracy = r2_score(Y_test,y_pred_test)\n",
    "print(\"Training Accuracy:\",train_accuracy)\n",
    "print(\"Testing Accuracy:\",test_accuracy)"
   ]
  },
  {
   "cell_type": "code",
   "execution_count": 57,
   "id": "42796be2-b2a9-4848-bf5e-bd90bfba3580",
   "metadata": {},
   "outputs": [],
   "source": [
    "from sklearn.linear_model import Lasso"
   ]
  },
  {
   "cell_type": "code",
   "execution_count": 58,
   "id": "ce99a385-93d3-4918-9f8c-cbdbb70ab8f4",
   "metadata": {},
   "outputs": [],
   "source": [
    "model = Lasso()\n",
    "grid_search = GridSearchCV(estimator=model, param_grid=param_grid, cv=5, scoring='neg_mean_squared_error', verbose=1)\n"
   ]
  },
  {
   "cell_type": "code",
   "execution_count": 59,
   "id": "0d0fd1e0-297a-42cc-ba7a-c0f4e9dc8a10",
   "metadata": {},
   "outputs": [
    {
     "name": "stdout",
     "output_type": "stream",
     "text": [
      "Fitting 5 folds for each of 4 candidates, totalling 20 fits\n"
     ]
    },
    {
     "data": {
      "text/html": [
       "<style>#sk-container-id-2 {color: black;background-color: white;}#sk-container-id-2 pre{padding: 0;}#sk-container-id-2 div.sk-toggleable {background-color: white;}#sk-container-id-2 label.sk-toggleable__label {cursor: pointer;display: block;width: 100%;margin-bottom: 0;padding: 0.3em;box-sizing: border-box;text-align: center;}#sk-container-id-2 label.sk-toggleable__label-arrow:before {content: \"▸\";float: left;margin-right: 0.25em;color: #696969;}#sk-container-id-2 label.sk-toggleable__label-arrow:hover:before {color: black;}#sk-container-id-2 div.sk-estimator:hover label.sk-toggleable__label-arrow:before {color: black;}#sk-container-id-2 div.sk-toggleable__content {max-height: 0;max-width: 0;overflow: hidden;text-align: left;background-color: #f0f8ff;}#sk-container-id-2 div.sk-toggleable__content pre {margin: 0.2em;color: black;border-radius: 0.25em;background-color: #f0f8ff;}#sk-container-id-2 input.sk-toggleable__control:checked~div.sk-toggleable__content {max-height: 200px;max-width: 100%;overflow: auto;}#sk-container-id-2 input.sk-toggleable__control:checked~label.sk-toggleable__label-arrow:before {content: \"▾\";}#sk-container-id-2 div.sk-estimator input.sk-toggleable__control:checked~label.sk-toggleable__label {background-color: #d4ebff;}#sk-container-id-2 div.sk-label input.sk-toggleable__control:checked~label.sk-toggleable__label {background-color: #d4ebff;}#sk-container-id-2 input.sk-hidden--visually {border: 0;clip: rect(1px 1px 1px 1px);clip: rect(1px, 1px, 1px, 1px);height: 1px;margin: -1px;overflow: hidden;padding: 0;position: absolute;width: 1px;}#sk-container-id-2 div.sk-estimator {font-family: monospace;background-color: #f0f8ff;border: 1px dotted black;border-radius: 0.25em;box-sizing: border-box;margin-bottom: 0.5em;}#sk-container-id-2 div.sk-estimator:hover {background-color: #d4ebff;}#sk-container-id-2 div.sk-parallel-item::after {content: \"\";width: 100%;border-bottom: 1px solid gray;flex-grow: 1;}#sk-container-id-2 div.sk-label:hover label.sk-toggleable__label {background-color: #d4ebff;}#sk-container-id-2 div.sk-serial::before {content: \"\";position: absolute;border-left: 1px solid gray;box-sizing: border-box;top: 0;bottom: 0;left: 50%;z-index: 0;}#sk-container-id-2 div.sk-serial {display: flex;flex-direction: column;align-items: center;background-color: white;padding-right: 0.2em;padding-left: 0.2em;position: relative;}#sk-container-id-2 div.sk-item {position: relative;z-index: 1;}#sk-container-id-2 div.sk-parallel {display: flex;align-items: stretch;justify-content: center;background-color: white;position: relative;}#sk-container-id-2 div.sk-item::before, #sk-container-id-2 div.sk-parallel-item::before {content: \"\";position: absolute;border-left: 1px solid gray;box-sizing: border-box;top: 0;bottom: 0;left: 50%;z-index: -1;}#sk-container-id-2 div.sk-parallel-item {display: flex;flex-direction: column;z-index: 1;position: relative;background-color: white;}#sk-container-id-2 div.sk-parallel-item:first-child::after {align-self: flex-end;width: 50%;}#sk-container-id-2 div.sk-parallel-item:last-child::after {align-self: flex-start;width: 50%;}#sk-container-id-2 div.sk-parallel-item:only-child::after {width: 0;}#sk-container-id-2 div.sk-dashed-wrapped {border: 1px dashed gray;margin: 0 0.4em 0.5em 0.4em;box-sizing: border-box;padding-bottom: 0.4em;background-color: white;}#sk-container-id-2 div.sk-label label {font-family: monospace;font-weight: bold;display: inline-block;line-height: 1.2em;}#sk-container-id-2 div.sk-label-container {text-align: center;}#sk-container-id-2 div.sk-container {/* jupyter's `normalize.less` sets `[hidden] { display: none; }` but bootstrap.min.css set `[hidden] { display: none !important; }` so we also need the `!important` here to be able to override the default hidden behavior on the sphinx rendered scikit-learn.org. See: https://github.com/scikit-learn/scikit-learn/issues/21755 */display: inline-block !important;position: relative;}#sk-container-id-2 div.sk-text-repr-fallback {display: none;}</style><div id=\"sk-container-id-2\" class=\"sk-top-container\"><div class=\"sk-text-repr-fallback\"><pre>GridSearchCV(cv=5, estimator=Lasso(),\n",
       "             param_grid={&#x27;alpha&#x27;: [0.01, 0.1, 1.0, 10.0]},\n",
       "             scoring=&#x27;neg_mean_squared_error&#x27;, verbose=1)</pre><b>In a Jupyter environment, please rerun this cell to show the HTML representation or trust the notebook. <br />On GitHub, the HTML representation is unable to render, please try loading this page with nbviewer.org.</b></div><div class=\"sk-container\" hidden><div class=\"sk-item sk-dashed-wrapped\"><div class=\"sk-label-container\"><div class=\"sk-label sk-toggleable\"><input class=\"sk-toggleable__control sk-hidden--visually\" id=\"sk-estimator-id-4\" type=\"checkbox\" ><label for=\"sk-estimator-id-4\" class=\"sk-toggleable__label sk-toggleable__label-arrow\">GridSearchCV</label><div class=\"sk-toggleable__content\"><pre>GridSearchCV(cv=5, estimator=Lasso(),\n",
       "             param_grid={&#x27;alpha&#x27;: [0.01, 0.1, 1.0, 10.0]},\n",
       "             scoring=&#x27;neg_mean_squared_error&#x27;, verbose=1)</pre></div></div></div><div class=\"sk-parallel\"><div class=\"sk-parallel-item\"><div class=\"sk-item\"><div class=\"sk-label-container\"><div class=\"sk-label sk-toggleable\"><input class=\"sk-toggleable__control sk-hidden--visually\" id=\"sk-estimator-id-5\" type=\"checkbox\" ><label for=\"sk-estimator-id-5\" class=\"sk-toggleable__label sk-toggleable__label-arrow\">estimator: Lasso</label><div class=\"sk-toggleable__content\"><pre>Lasso()</pre></div></div></div><div class=\"sk-serial\"><div class=\"sk-item\"><div class=\"sk-estimator sk-toggleable\"><input class=\"sk-toggleable__control sk-hidden--visually\" id=\"sk-estimator-id-6\" type=\"checkbox\" ><label for=\"sk-estimator-id-6\" class=\"sk-toggleable__label sk-toggleable__label-arrow\">Lasso</label><div class=\"sk-toggleable__content\"><pre>Lasso()</pre></div></div></div></div></div></div></div></div></div></div>"
      ],
      "text/plain": [
       "GridSearchCV(cv=5, estimator=Lasso(),\n",
       "             param_grid={'alpha': [0.01, 0.1, 1.0, 10.0]},\n",
       "             scoring='neg_mean_squared_error', verbose=1)"
      ]
     },
     "execution_count": 59,
     "metadata": {},
     "output_type": "execute_result"
    }
   ],
   "source": [
    "grid_search.fit(X_train_tr, Y_train)\n"
   ]
  },
  {
   "cell_type": "code",
   "execution_count": 60,
   "id": "5e15bc7f-1396-49cf-9b04-751bea5bc93b",
   "metadata": {},
   "outputs": [
    {
     "name": "stdout",
     "output_type": "stream",
     "text": [
      "Best Hyperparameters: {'alpha': 0.1}\n"
     ]
    }
   ],
   "source": [
    "best_params = grid_search.best_params_\n",
    "print(\"Best Hyperparameters:\", best_params)\n"
   ]
  },
  {
   "cell_type": "code",
   "execution_count": 61,
   "id": "fa7518fe-3f9a-4bf2-85ae-700cf928cf2f",
   "metadata": {},
   "outputs": [],
   "source": [
    "y_pred_train = best_model.predict(X_train_tr)\n",
    "y_pred_test = best_model.predict(X_test_tr)"
   ]
  },
  {
   "cell_type": "code",
   "execution_count": 62,
   "id": "2387d802-81b4-4baf-a565-57ac01691c75",
   "metadata": {},
   "outputs": [
    {
     "name": "stdout",
     "output_type": "stream",
     "text": [
      "Training Accuracy: 0.7178438201732353\n",
      "Testing Accuracy: 0.6904462373040845\n"
     ]
    }
   ],
   "source": [
    "train_accuracy = r2_score(Y_train,y_pred_train)\n",
    "test_accuracy = r2_score(Y_test,y_pred_test)\n",
    "print(\"Training Accuracy:\",train_accuracy)\n",
    "print(\"Testing Accuracy:\",test_accuracy)"
   ]
  },
  {
   "cell_type": "code",
   "execution_count": 63,
   "id": "77f716e5-63f9-4509-a6de-6b9e63f1b9d6",
   "metadata": {},
   "outputs": [],
   "source": [
    "param_grid_sgd = {\n",
    "    'alpha': [0.0001, 0.001, 0.01],\n",
    "    'penalty': ['l1', 'l2']\n",
    "}\n",
    "\n",
    "param_grid_svr = {\n",
    "    'C': [0.1, 1, 10],\n",
    "    'kernel': ['linear', 'rbf']\n",
    "}\n",
    "\n",
    "param_grid_dt = {\n",
    "    'max_depth': [None, 10, 20],\n",
    "    'min_samples_split': [2, 5, 10]\n",
    "}\n",
    "\n",
    "param_grid_rf = {\n",
    "    'n_estimators': [50, 100, 200],\n",
    "    'max_depth': [None, 10, 20]\n",
    "}"
   ]
  },
  {
   "cell_type": "code",
   "execution_count": 64,
   "id": "9fab5b18-0d7c-488a-8283-e22f8b27e503",
   "metadata": {},
   "outputs": [],
   "source": [
    "sgd_model = SGDRegressor()\n",
    "svr_model = SVR()\n",
    "dt_model = DecisionTreeRegressor()\n",
    "rf_model = RandomForestRegressor()"
   ]
  },
  {
   "cell_type": "code",
   "execution_count": 65,
   "id": "2a92c57e-7cfd-4e79-badd-f107ce711ae9",
   "metadata": {},
   "outputs": [],
   "source": [
    "grid_search_sgd = GridSearchCV(estimator=sgd_model, param_grid=param_grid_sgd, cv=5, scoring='neg_mean_squared_error', verbose=1)\n",
    "grid_search_svr = GridSearchCV(estimator=svr_model, param_grid=param_grid_svr, cv=5, scoring='neg_mean_squared_error', verbose=1)\n",
    "grid_search_dt = GridSearchCV(estimator=dt_model, param_grid=param_grid_dt, cv=5, scoring='neg_mean_squared_error', verbose=1)\n",
    "grid_search_rf = GridSearchCV(estimator=rf_model, param_grid=param_grid_rf, cv=5, scoring='neg_mean_squared_error', verbose=1)"
   ]
  },
  {
   "cell_type": "code",
   "execution_count": 66,
   "id": "f603f7a9-d0fa-4674-abd0-af178848aff5",
   "metadata": {},
   "outputs": [
    {
     "name": "stdout",
     "output_type": "stream",
     "text": [
      "Fitting 5 folds for each of 6 candidates, totalling 30 fits\n"
     ]
    },
    {
     "data": {
      "text/html": [
       "<style>#sk-container-id-3 {color: black;background-color: white;}#sk-container-id-3 pre{padding: 0;}#sk-container-id-3 div.sk-toggleable {background-color: white;}#sk-container-id-3 label.sk-toggleable__label {cursor: pointer;display: block;width: 100%;margin-bottom: 0;padding: 0.3em;box-sizing: border-box;text-align: center;}#sk-container-id-3 label.sk-toggleable__label-arrow:before {content: \"▸\";float: left;margin-right: 0.25em;color: #696969;}#sk-container-id-3 label.sk-toggleable__label-arrow:hover:before {color: black;}#sk-container-id-3 div.sk-estimator:hover label.sk-toggleable__label-arrow:before {color: black;}#sk-container-id-3 div.sk-toggleable__content {max-height: 0;max-width: 0;overflow: hidden;text-align: left;background-color: #f0f8ff;}#sk-container-id-3 div.sk-toggleable__content pre {margin: 0.2em;color: black;border-radius: 0.25em;background-color: #f0f8ff;}#sk-container-id-3 input.sk-toggleable__control:checked~div.sk-toggleable__content {max-height: 200px;max-width: 100%;overflow: auto;}#sk-container-id-3 input.sk-toggleable__control:checked~label.sk-toggleable__label-arrow:before {content: \"▾\";}#sk-container-id-3 div.sk-estimator input.sk-toggleable__control:checked~label.sk-toggleable__label {background-color: #d4ebff;}#sk-container-id-3 div.sk-label input.sk-toggleable__control:checked~label.sk-toggleable__label {background-color: #d4ebff;}#sk-container-id-3 input.sk-hidden--visually {border: 0;clip: rect(1px 1px 1px 1px);clip: rect(1px, 1px, 1px, 1px);height: 1px;margin: -1px;overflow: hidden;padding: 0;position: absolute;width: 1px;}#sk-container-id-3 div.sk-estimator {font-family: monospace;background-color: #f0f8ff;border: 1px dotted black;border-radius: 0.25em;box-sizing: border-box;margin-bottom: 0.5em;}#sk-container-id-3 div.sk-estimator:hover {background-color: #d4ebff;}#sk-container-id-3 div.sk-parallel-item::after {content: \"\";width: 100%;border-bottom: 1px solid gray;flex-grow: 1;}#sk-container-id-3 div.sk-label:hover label.sk-toggleable__label {background-color: #d4ebff;}#sk-container-id-3 div.sk-serial::before {content: \"\";position: absolute;border-left: 1px solid gray;box-sizing: border-box;top: 0;bottom: 0;left: 50%;z-index: 0;}#sk-container-id-3 div.sk-serial {display: flex;flex-direction: column;align-items: center;background-color: white;padding-right: 0.2em;padding-left: 0.2em;position: relative;}#sk-container-id-3 div.sk-item {position: relative;z-index: 1;}#sk-container-id-3 div.sk-parallel {display: flex;align-items: stretch;justify-content: center;background-color: white;position: relative;}#sk-container-id-3 div.sk-item::before, #sk-container-id-3 div.sk-parallel-item::before {content: \"\";position: absolute;border-left: 1px solid gray;box-sizing: border-box;top: 0;bottom: 0;left: 50%;z-index: -1;}#sk-container-id-3 div.sk-parallel-item {display: flex;flex-direction: column;z-index: 1;position: relative;background-color: white;}#sk-container-id-3 div.sk-parallel-item:first-child::after {align-self: flex-end;width: 50%;}#sk-container-id-3 div.sk-parallel-item:last-child::after {align-self: flex-start;width: 50%;}#sk-container-id-3 div.sk-parallel-item:only-child::after {width: 0;}#sk-container-id-3 div.sk-dashed-wrapped {border: 1px dashed gray;margin: 0 0.4em 0.5em 0.4em;box-sizing: border-box;padding-bottom: 0.4em;background-color: white;}#sk-container-id-3 div.sk-label label {font-family: monospace;font-weight: bold;display: inline-block;line-height: 1.2em;}#sk-container-id-3 div.sk-label-container {text-align: center;}#sk-container-id-3 div.sk-container {/* jupyter's `normalize.less` sets `[hidden] { display: none; }` but bootstrap.min.css set `[hidden] { display: none !important; }` so we also need the `!important` here to be able to override the default hidden behavior on the sphinx rendered scikit-learn.org. See: https://github.com/scikit-learn/scikit-learn/issues/21755 */display: inline-block !important;position: relative;}#sk-container-id-3 div.sk-text-repr-fallback {display: none;}</style><div id=\"sk-container-id-3\" class=\"sk-top-container\"><div class=\"sk-text-repr-fallback\"><pre>GridSearchCV(cv=5, estimator=SGDRegressor(),\n",
       "             param_grid={&#x27;alpha&#x27;: [0.0001, 0.001, 0.01],\n",
       "                         &#x27;penalty&#x27;: [&#x27;l1&#x27;, &#x27;l2&#x27;]},\n",
       "             scoring=&#x27;neg_mean_squared_error&#x27;, verbose=1)</pre><b>In a Jupyter environment, please rerun this cell to show the HTML representation or trust the notebook. <br />On GitHub, the HTML representation is unable to render, please try loading this page with nbviewer.org.</b></div><div class=\"sk-container\" hidden><div class=\"sk-item sk-dashed-wrapped\"><div class=\"sk-label-container\"><div class=\"sk-label sk-toggleable\"><input class=\"sk-toggleable__control sk-hidden--visually\" id=\"sk-estimator-id-7\" type=\"checkbox\" ><label for=\"sk-estimator-id-7\" class=\"sk-toggleable__label sk-toggleable__label-arrow\">GridSearchCV</label><div class=\"sk-toggleable__content\"><pre>GridSearchCV(cv=5, estimator=SGDRegressor(),\n",
       "             param_grid={&#x27;alpha&#x27;: [0.0001, 0.001, 0.01],\n",
       "                         &#x27;penalty&#x27;: [&#x27;l1&#x27;, &#x27;l2&#x27;]},\n",
       "             scoring=&#x27;neg_mean_squared_error&#x27;, verbose=1)</pre></div></div></div><div class=\"sk-parallel\"><div class=\"sk-parallel-item\"><div class=\"sk-item\"><div class=\"sk-label-container\"><div class=\"sk-label sk-toggleable\"><input class=\"sk-toggleable__control sk-hidden--visually\" id=\"sk-estimator-id-8\" type=\"checkbox\" ><label for=\"sk-estimator-id-8\" class=\"sk-toggleable__label sk-toggleable__label-arrow\">estimator: SGDRegressor</label><div class=\"sk-toggleable__content\"><pre>SGDRegressor()</pre></div></div></div><div class=\"sk-serial\"><div class=\"sk-item\"><div class=\"sk-estimator sk-toggleable\"><input class=\"sk-toggleable__control sk-hidden--visually\" id=\"sk-estimator-id-9\" type=\"checkbox\" ><label for=\"sk-estimator-id-9\" class=\"sk-toggleable__label sk-toggleable__label-arrow\">SGDRegressor</label><div class=\"sk-toggleable__content\"><pre>SGDRegressor()</pre></div></div></div></div></div></div></div></div></div></div>"
      ],
      "text/plain": [
       "GridSearchCV(cv=5, estimator=SGDRegressor(),\n",
       "             param_grid={'alpha': [0.0001, 0.001, 0.01],\n",
       "                         'penalty': ['l1', 'l2']},\n",
       "             scoring='neg_mean_squared_error', verbose=1)"
      ]
     },
     "execution_count": 66,
     "metadata": {},
     "output_type": "execute_result"
    }
   ],
   "source": [
    "grid_search_sgd.fit(X_train_tr, Y_train)"
   ]
  },
  {
   "cell_type": "code",
   "execution_count": 67,
   "id": "bb3f898e-8bf5-4840-83b6-c8e9fb1999c5",
   "metadata": {},
   "outputs": [
    {
     "name": "stdout",
     "output_type": "stream",
     "text": [
      "Fitting 5 folds for each of 6 candidates, totalling 30 fits\n"
     ]
    },
    {
     "data": {
      "text/html": [
       "<style>#sk-container-id-4 {color: black;background-color: white;}#sk-container-id-4 pre{padding: 0;}#sk-container-id-4 div.sk-toggleable {background-color: white;}#sk-container-id-4 label.sk-toggleable__label {cursor: pointer;display: block;width: 100%;margin-bottom: 0;padding: 0.3em;box-sizing: border-box;text-align: center;}#sk-container-id-4 label.sk-toggleable__label-arrow:before {content: \"▸\";float: left;margin-right: 0.25em;color: #696969;}#sk-container-id-4 label.sk-toggleable__label-arrow:hover:before {color: black;}#sk-container-id-4 div.sk-estimator:hover label.sk-toggleable__label-arrow:before {color: black;}#sk-container-id-4 div.sk-toggleable__content {max-height: 0;max-width: 0;overflow: hidden;text-align: left;background-color: #f0f8ff;}#sk-container-id-4 div.sk-toggleable__content pre {margin: 0.2em;color: black;border-radius: 0.25em;background-color: #f0f8ff;}#sk-container-id-4 input.sk-toggleable__control:checked~div.sk-toggleable__content {max-height: 200px;max-width: 100%;overflow: auto;}#sk-container-id-4 input.sk-toggleable__control:checked~label.sk-toggleable__label-arrow:before {content: \"▾\";}#sk-container-id-4 div.sk-estimator input.sk-toggleable__control:checked~label.sk-toggleable__label {background-color: #d4ebff;}#sk-container-id-4 div.sk-label input.sk-toggleable__control:checked~label.sk-toggleable__label {background-color: #d4ebff;}#sk-container-id-4 input.sk-hidden--visually {border: 0;clip: rect(1px 1px 1px 1px);clip: rect(1px, 1px, 1px, 1px);height: 1px;margin: -1px;overflow: hidden;padding: 0;position: absolute;width: 1px;}#sk-container-id-4 div.sk-estimator {font-family: monospace;background-color: #f0f8ff;border: 1px dotted black;border-radius: 0.25em;box-sizing: border-box;margin-bottom: 0.5em;}#sk-container-id-4 div.sk-estimator:hover {background-color: #d4ebff;}#sk-container-id-4 div.sk-parallel-item::after {content: \"\";width: 100%;border-bottom: 1px solid gray;flex-grow: 1;}#sk-container-id-4 div.sk-label:hover label.sk-toggleable__label {background-color: #d4ebff;}#sk-container-id-4 div.sk-serial::before {content: \"\";position: absolute;border-left: 1px solid gray;box-sizing: border-box;top: 0;bottom: 0;left: 50%;z-index: 0;}#sk-container-id-4 div.sk-serial {display: flex;flex-direction: column;align-items: center;background-color: white;padding-right: 0.2em;padding-left: 0.2em;position: relative;}#sk-container-id-4 div.sk-item {position: relative;z-index: 1;}#sk-container-id-4 div.sk-parallel {display: flex;align-items: stretch;justify-content: center;background-color: white;position: relative;}#sk-container-id-4 div.sk-item::before, #sk-container-id-4 div.sk-parallel-item::before {content: \"\";position: absolute;border-left: 1px solid gray;box-sizing: border-box;top: 0;bottom: 0;left: 50%;z-index: -1;}#sk-container-id-4 div.sk-parallel-item {display: flex;flex-direction: column;z-index: 1;position: relative;background-color: white;}#sk-container-id-4 div.sk-parallel-item:first-child::after {align-self: flex-end;width: 50%;}#sk-container-id-4 div.sk-parallel-item:last-child::after {align-self: flex-start;width: 50%;}#sk-container-id-4 div.sk-parallel-item:only-child::after {width: 0;}#sk-container-id-4 div.sk-dashed-wrapped {border: 1px dashed gray;margin: 0 0.4em 0.5em 0.4em;box-sizing: border-box;padding-bottom: 0.4em;background-color: white;}#sk-container-id-4 div.sk-label label {font-family: monospace;font-weight: bold;display: inline-block;line-height: 1.2em;}#sk-container-id-4 div.sk-label-container {text-align: center;}#sk-container-id-4 div.sk-container {/* jupyter's `normalize.less` sets `[hidden] { display: none; }` but bootstrap.min.css set `[hidden] { display: none !important; }` so we also need the `!important` here to be able to override the default hidden behavior on the sphinx rendered scikit-learn.org. See: https://github.com/scikit-learn/scikit-learn/issues/21755 */display: inline-block !important;position: relative;}#sk-container-id-4 div.sk-text-repr-fallback {display: none;}</style><div id=\"sk-container-id-4\" class=\"sk-top-container\"><div class=\"sk-text-repr-fallback\"><pre>GridSearchCV(cv=5, estimator=SVR(),\n",
       "             param_grid={&#x27;C&#x27;: [0.1, 1, 10], &#x27;kernel&#x27;: [&#x27;linear&#x27;, &#x27;rbf&#x27;]},\n",
       "             scoring=&#x27;neg_mean_squared_error&#x27;, verbose=1)</pre><b>In a Jupyter environment, please rerun this cell to show the HTML representation or trust the notebook. <br />On GitHub, the HTML representation is unable to render, please try loading this page with nbviewer.org.</b></div><div class=\"sk-container\" hidden><div class=\"sk-item sk-dashed-wrapped\"><div class=\"sk-label-container\"><div class=\"sk-label sk-toggleable\"><input class=\"sk-toggleable__control sk-hidden--visually\" id=\"sk-estimator-id-10\" type=\"checkbox\" ><label for=\"sk-estimator-id-10\" class=\"sk-toggleable__label sk-toggleable__label-arrow\">GridSearchCV</label><div class=\"sk-toggleable__content\"><pre>GridSearchCV(cv=5, estimator=SVR(),\n",
       "             param_grid={&#x27;C&#x27;: [0.1, 1, 10], &#x27;kernel&#x27;: [&#x27;linear&#x27;, &#x27;rbf&#x27;]},\n",
       "             scoring=&#x27;neg_mean_squared_error&#x27;, verbose=1)</pre></div></div></div><div class=\"sk-parallel\"><div class=\"sk-parallel-item\"><div class=\"sk-item\"><div class=\"sk-label-container\"><div class=\"sk-label sk-toggleable\"><input class=\"sk-toggleable__control sk-hidden--visually\" id=\"sk-estimator-id-11\" type=\"checkbox\" ><label for=\"sk-estimator-id-11\" class=\"sk-toggleable__label sk-toggleable__label-arrow\">estimator: SVR</label><div class=\"sk-toggleable__content\"><pre>SVR()</pre></div></div></div><div class=\"sk-serial\"><div class=\"sk-item\"><div class=\"sk-estimator sk-toggleable\"><input class=\"sk-toggleable__control sk-hidden--visually\" id=\"sk-estimator-id-12\" type=\"checkbox\" ><label for=\"sk-estimator-id-12\" class=\"sk-toggleable__label sk-toggleable__label-arrow\">SVR</label><div class=\"sk-toggleable__content\"><pre>SVR()</pre></div></div></div></div></div></div></div></div></div></div>"
      ],
      "text/plain": [
       "GridSearchCV(cv=5, estimator=SVR(),\n",
       "             param_grid={'C': [0.1, 1, 10], 'kernel': ['linear', 'rbf']},\n",
       "             scoring='neg_mean_squared_error', verbose=1)"
      ]
     },
     "execution_count": 67,
     "metadata": {},
     "output_type": "execute_result"
    }
   ],
   "source": [
    "grid_search_svr.fit(X_train_tr, Y_train)"
   ]
  },
  {
   "cell_type": "code",
   "execution_count": 68,
   "id": "518e9387-0258-4605-bb53-b16a557b7ce7",
   "metadata": {},
   "outputs": [
    {
     "name": "stdout",
     "output_type": "stream",
     "text": [
      "Fitting 5 folds for each of 9 candidates, totalling 45 fits\n"
     ]
    },
    {
     "data": {
      "text/html": [
       "<style>#sk-container-id-5 {color: black;background-color: white;}#sk-container-id-5 pre{padding: 0;}#sk-container-id-5 div.sk-toggleable {background-color: white;}#sk-container-id-5 label.sk-toggleable__label {cursor: pointer;display: block;width: 100%;margin-bottom: 0;padding: 0.3em;box-sizing: border-box;text-align: center;}#sk-container-id-5 label.sk-toggleable__label-arrow:before {content: \"▸\";float: left;margin-right: 0.25em;color: #696969;}#sk-container-id-5 label.sk-toggleable__label-arrow:hover:before {color: black;}#sk-container-id-5 div.sk-estimator:hover label.sk-toggleable__label-arrow:before {color: black;}#sk-container-id-5 div.sk-toggleable__content {max-height: 0;max-width: 0;overflow: hidden;text-align: left;background-color: #f0f8ff;}#sk-container-id-5 div.sk-toggleable__content pre {margin: 0.2em;color: black;border-radius: 0.25em;background-color: #f0f8ff;}#sk-container-id-5 input.sk-toggleable__control:checked~div.sk-toggleable__content {max-height: 200px;max-width: 100%;overflow: auto;}#sk-container-id-5 input.sk-toggleable__control:checked~label.sk-toggleable__label-arrow:before {content: \"▾\";}#sk-container-id-5 div.sk-estimator input.sk-toggleable__control:checked~label.sk-toggleable__label {background-color: #d4ebff;}#sk-container-id-5 div.sk-label input.sk-toggleable__control:checked~label.sk-toggleable__label {background-color: #d4ebff;}#sk-container-id-5 input.sk-hidden--visually {border: 0;clip: rect(1px 1px 1px 1px);clip: rect(1px, 1px, 1px, 1px);height: 1px;margin: -1px;overflow: hidden;padding: 0;position: absolute;width: 1px;}#sk-container-id-5 div.sk-estimator {font-family: monospace;background-color: #f0f8ff;border: 1px dotted black;border-radius: 0.25em;box-sizing: border-box;margin-bottom: 0.5em;}#sk-container-id-5 div.sk-estimator:hover {background-color: #d4ebff;}#sk-container-id-5 div.sk-parallel-item::after {content: \"\";width: 100%;border-bottom: 1px solid gray;flex-grow: 1;}#sk-container-id-5 div.sk-label:hover label.sk-toggleable__label {background-color: #d4ebff;}#sk-container-id-5 div.sk-serial::before {content: \"\";position: absolute;border-left: 1px solid gray;box-sizing: border-box;top: 0;bottom: 0;left: 50%;z-index: 0;}#sk-container-id-5 div.sk-serial {display: flex;flex-direction: column;align-items: center;background-color: white;padding-right: 0.2em;padding-left: 0.2em;position: relative;}#sk-container-id-5 div.sk-item {position: relative;z-index: 1;}#sk-container-id-5 div.sk-parallel {display: flex;align-items: stretch;justify-content: center;background-color: white;position: relative;}#sk-container-id-5 div.sk-item::before, #sk-container-id-5 div.sk-parallel-item::before {content: \"\";position: absolute;border-left: 1px solid gray;box-sizing: border-box;top: 0;bottom: 0;left: 50%;z-index: -1;}#sk-container-id-5 div.sk-parallel-item {display: flex;flex-direction: column;z-index: 1;position: relative;background-color: white;}#sk-container-id-5 div.sk-parallel-item:first-child::after {align-self: flex-end;width: 50%;}#sk-container-id-5 div.sk-parallel-item:last-child::after {align-self: flex-start;width: 50%;}#sk-container-id-5 div.sk-parallel-item:only-child::after {width: 0;}#sk-container-id-5 div.sk-dashed-wrapped {border: 1px dashed gray;margin: 0 0.4em 0.5em 0.4em;box-sizing: border-box;padding-bottom: 0.4em;background-color: white;}#sk-container-id-5 div.sk-label label {font-family: monospace;font-weight: bold;display: inline-block;line-height: 1.2em;}#sk-container-id-5 div.sk-label-container {text-align: center;}#sk-container-id-5 div.sk-container {/* jupyter's `normalize.less` sets `[hidden] { display: none; }` but bootstrap.min.css set `[hidden] { display: none !important; }` so we also need the `!important` here to be able to override the default hidden behavior on the sphinx rendered scikit-learn.org. See: https://github.com/scikit-learn/scikit-learn/issues/21755 */display: inline-block !important;position: relative;}#sk-container-id-5 div.sk-text-repr-fallback {display: none;}</style><div id=\"sk-container-id-5\" class=\"sk-top-container\"><div class=\"sk-text-repr-fallback\"><pre>GridSearchCV(cv=5, estimator=DecisionTreeRegressor(),\n",
       "             param_grid={&#x27;max_depth&#x27;: [None, 10, 20],\n",
       "                         &#x27;min_samples_split&#x27;: [2, 5, 10]},\n",
       "             scoring=&#x27;neg_mean_squared_error&#x27;, verbose=1)</pre><b>In a Jupyter environment, please rerun this cell to show the HTML representation or trust the notebook. <br />On GitHub, the HTML representation is unable to render, please try loading this page with nbviewer.org.</b></div><div class=\"sk-container\" hidden><div class=\"sk-item sk-dashed-wrapped\"><div class=\"sk-label-container\"><div class=\"sk-label sk-toggleable\"><input class=\"sk-toggleable__control sk-hidden--visually\" id=\"sk-estimator-id-13\" type=\"checkbox\" ><label for=\"sk-estimator-id-13\" class=\"sk-toggleable__label sk-toggleable__label-arrow\">GridSearchCV</label><div class=\"sk-toggleable__content\"><pre>GridSearchCV(cv=5, estimator=DecisionTreeRegressor(),\n",
       "             param_grid={&#x27;max_depth&#x27;: [None, 10, 20],\n",
       "                         &#x27;min_samples_split&#x27;: [2, 5, 10]},\n",
       "             scoring=&#x27;neg_mean_squared_error&#x27;, verbose=1)</pre></div></div></div><div class=\"sk-parallel\"><div class=\"sk-parallel-item\"><div class=\"sk-item\"><div class=\"sk-label-container\"><div class=\"sk-label sk-toggleable\"><input class=\"sk-toggleable__control sk-hidden--visually\" id=\"sk-estimator-id-14\" type=\"checkbox\" ><label for=\"sk-estimator-id-14\" class=\"sk-toggleable__label sk-toggleable__label-arrow\">estimator: DecisionTreeRegressor</label><div class=\"sk-toggleable__content\"><pre>DecisionTreeRegressor()</pre></div></div></div><div class=\"sk-serial\"><div class=\"sk-item\"><div class=\"sk-estimator sk-toggleable\"><input class=\"sk-toggleable__control sk-hidden--visually\" id=\"sk-estimator-id-15\" type=\"checkbox\" ><label for=\"sk-estimator-id-15\" class=\"sk-toggleable__label sk-toggleable__label-arrow\">DecisionTreeRegressor</label><div class=\"sk-toggleable__content\"><pre>DecisionTreeRegressor()</pre></div></div></div></div></div></div></div></div></div></div>"
      ],
      "text/plain": [
       "GridSearchCV(cv=5, estimator=DecisionTreeRegressor(),\n",
       "             param_grid={'max_depth': [None, 10, 20],\n",
       "                         'min_samples_split': [2, 5, 10]},\n",
       "             scoring='neg_mean_squared_error', verbose=1)"
      ]
     },
     "execution_count": 68,
     "metadata": {},
     "output_type": "execute_result"
    }
   ],
   "source": [
    "grid_search_dt.fit(X_train_tr, Y_train)"
   ]
  },
  {
   "cell_type": "code",
   "execution_count": 69,
   "id": "597c5790-2810-44de-987d-c5a5cec29959",
   "metadata": {},
   "outputs": [
    {
     "name": "stdout",
     "output_type": "stream",
     "text": [
      "Fitting 5 folds for each of 9 candidates, totalling 45 fits\n"
     ]
    },
    {
     "data": {
      "text/html": [
       "<style>#sk-container-id-6 {color: black;background-color: white;}#sk-container-id-6 pre{padding: 0;}#sk-container-id-6 div.sk-toggleable {background-color: white;}#sk-container-id-6 label.sk-toggleable__label {cursor: pointer;display: block;width: 100%;margin-bottom: 0;padding: 0.3em;box-sizing: border-box;text-align: center;}#sk-container-id-6 label.sk-toggleable__label-arrow:before {content: \"▸\";float: left;margin-right: 0.25em;color: #696969;}#sk-container-id-6 label.sk-toggleable__label-arrow:hover:before {color: black;}#sk-container-id-6 div.sk-estimator:hover label.sk-toggleable__label-arrow:before {color: black;}#sk-container-id-6 div.sk-toggleable__content {max-height: 0;max-width: 0;overflow: hidden;text-align: left;background-color: #f0f8ff;}#sk-container-id-6 div.sk-toggleable__content pre {margin: 0.2em;color: black;border-radius: 0.25em;background-color: #f0f8ff;}#sk-container-id-6 input.sk-toggleable__control:checked~div.sk-toggleable__content {max-height: 200px;max-width: 100%;overflow: auto;}#sk-container-id-6 input.sk-toggleable__control:checked~label.sk-toggleable__label-arrow:before {content: \"▾\";}#sk-container-id-6 div.sk-estimator input.sk-toggleable__control:checked~label.sk-toggleable__label {background-color: #d4ebff;}#sk-container-id-6 div.sk-label input.sk-toggleable__control:checked~label.sk-toggleable__label {background-color: #d4ebff;}#sk-container-id-6 input.sk-hidden--visually {border: 0;clip: rect(1px 1px 1px 1px);clip: rect(1px, 1px, 1px, 1px);height: 1px;margin: -1px;overflow: hidden;padding: 0;position: absolute;width: 1px;}#sk-container-id-6 div.sk-estimator {font-family: monospace;background-color: #f0f8ff;border: 1px dotted black;border-radius: 0.25em;box-sizing: border-box;margin-bottom: 0.5em;}#sk-container-id-6 div.sk-estimator:hover {background-color: #d4ebff;}#sk-container-id-6 div.sk-parallel-item::after {content: \"\";width: 100%;border-bottom: 1px solid gray;flex-grow: 1;}#sk-container-id-6 div.sk-label:hover label.sk-toggleable__label {background-color: #d4ebff;}#sk-container-id-6 div.sk-serial::before {content: \"\";position: absolute;border-left: 1px solid gray;box-sizing: border-box;top: 0;bottom: 0;left: 50%;z-index: 0;}#sk-container-id-6 div.sk-serial {display: flex;flex-direction: column;align-items: center;background-color: white;padding-right: 0.2em;padding-left: 0.2em;position: relative;}#sk-container-id-6 div.sk-item {position: relative;z-index: 1;}#sk-container-id-6 div.sk-parallel {display: flex;align-items: stretch;justify-content: center;background-color: white;position: relative;}#sk-container-id-6 div.sk-item::before, #sk-container-id-6 div.sk-parallel-item::before {content: \"\";position: absolute;border-left: 1px solid gray;box-sizing: border-box;top: 0;bottom: 0;left: 50%;z-index: -1;}#sk-container-id-6 div.sk-parallel-item {display: flex;flex-direction: column;z-index: 1;position: relative;background-color: white;}#sk-container-id-6 div.sk-parallel-item:first-child::after {align-self: flex-end;width: 50%;}#sk-container-id-6 div.sk-parallel-item:last-child::after {align-self: flex-start;width: 50%;}#sk-container-id-6 div.sk-parallel-item:only-child::after {width: 0;}#sk-container-id-6 div.sk-dashed-wrapped {border: 1px dashed gray;margin: 0 0.4em 0.5em 0.4em;box-sizing: border-box;padding-bottom: 0.4em;background-color: white;}#sk-container-id-6 div.sk-label label {font-family: monospace;font-weight: bold;display: inline-block;line-height: 1.2em;}#sk-container-id-6 div.sk-label-container {text-align: center;}#sk-container-id-6 div.sk-container {/* jupyter's `normalize.less` sets `[hidden] { display: none; }` but bootstrap.min.css set `[hidden] { display: none !important; }` so we also need the `!important` here to be able to override the default hidden behavior on the sphinx rendered scikit-learn.org. See: https://github.com/scikit-learn/scikit-learn/issues/21755 */display: inline-block !important;position: relative;}#sk-container-id-6 div.sk-text-repr-fallback {display: none;}</style><div id=\"sk-container-id-6\" class=\"sk-top-container\"><div class=\"sk-text-repr-fallback\"><pre>GridSearchCV(cv=5, estimator=RandomForestRegressor(),\n",
       "             param_grid={&#x27;max_depth&#x27;: [None, 10, 20],\n",
       "                         &#x27;n_estimators&#x27;: [50, 100, 200]},\n",
       "             scoring=&#x27;neg_mean_squared_error&#x27;, verbose=1)</pre><b>In a Jupyter environment, please rerun this cell to show the HTML representation or trust the notebook. <br />On GitHub, the HTML representation is unable to render, please try loading this page with nbviewer.org.</b></div><div class=\"sk-container\" hidden><div class=\"sk-item sk-dashed-wrapped\"><div class=\"sk-label-container\"><div class=\"sk-label sk-toggleable\"><input class=\"sk-toggleable__control sk-hidden--visually\" id=\"sk-estimator-id-16\" type=\"checkbox\" ><label for=\"sk-estimator-id-16\" class=\"sk-toggleable__label sk-toggleable__label-arrow\">GridSearchCV</label><div class=\"sk-toggleable__content\"><pre>GridSearchCV(cv=5, estimator=RandomForestRegressor(),\n",
       "             param_grid={&#x27;max_depth&#x27;: [None, 10, 20],\n",
       "                         &#x27;n_estimators&#x27;: [50, 100, 200]},\n",
       "             scoring=&#x27;neg_mean_squared_error&#x27;, verbose=1)</pre></div></div></div><div class=\"sk-parallel\"><div class=\"sk-parallel-item\"><div class=\"sk-item\"><div class=\"sk-label-container\"><div class=\"sk-label sk-toggleable\"><input class=\"sk-toggleable__control sk-hidden--visually\" id=\"sk-estimator-id-17\" type=\"checkbox\" ><label for=\"sk-estimator-id-17\" class=\"sk-toggleable__label sk-toggleable__label-arrow\">estimator: RandomForestRegressor</label><div class=\"sk-toggleable__content\"><pre>RandomForestRegressor()</pre></div></div></div><div class=\"sk-serial\"><div class=\"sk-item\"><div class=\"sk-estimator sk-toggleable\"><input class=\"sk-toggleable__control sk-hidden--visually\" id=\"sk-estimator-id-18\" type=\"checkbox\" ><label for=\"sk-estimator-id-18\" class=\"sk-toggleable__label sk-toggleable__label-arrow\">RandomForestRegressor</label><div class=\"sk-toggleable__content\"><pre>RandomForestRegressor()</pre></div></div></div></div></div></div></div></div></div></div>"
      ],
      "text/plain": [
       "GridSearchCV(cv=5, estimator=RandomForestRegressor(),\n",
       "             param_grid={'max_depth': [None, 10, 20],\n",
       "                         'n_estimators': [50, 100, 200]},\n",
       "             scoring='neg_mean_squared_error', verbose=1)"
      ]
     },
     "execution_count": 69,
     "metadata": {},
     "output_type": "execute_result"
    }
   ],
   "source": [
    "grid_search_rf.fit(X_train_tr, Y_train)"
   ]
  },
  {
   "cell_type": "code",
   "execution_count": 70,
   "id": "2e397111-e5d5-4695-85af-3aa440e17c68",
   "metadata": {},
   "outputs": [
    {
     "name": "stdout",
     "output_type": "stream",
     "text": [
      "Best Hyperparameters for SGDRegressor: {'alpha': 0.0001, 'penalty': 'l1'}\n",
      "Best Hyperparameters for SVR: {'C': 10, 'kernel': 'rbf'}\n",
      "Best Hyperparameters for DecisionTreeRegressor: {'max_depth': 10, 'min_samples_split': 10}\n",
      "Best Hyperparameters for RandomForestRegressor: {'max_depth': None, 'n_estimators': 200}\n"
     ]
    }
   ],
   "source": [
    "for model, grid_search in zip([sgd_model, svr_model, dt_model, rf_model], [grid_search_sgd, grid_search_svr, grid_search_dt, grid_search_rf]):\n",
    "    best_params = grid_search.best_params_\n",
    "    print(\"Best Hyperparameters for {}: {}\".format(model.__class__.__name__, best_params))"
   ]
  },
  {
   "cell_type": "code",
   "execution_count": 71,
   "id": "970c1b39-09ae-4397-a591-78921fa2182c",
   "metadata": {},
   "outputs": [
    {
     "name": "stdout",
     "output_type": "stream",
     "text": [
      "SGDRegressor(penalty='l1')\n"
     ]
    }
   ],
   "source": [
    "best_model = grid_search_sgd.best_estimator_\n",
    "print(best_model)"
   ]
  },
  {
   "cell_type": "code",
   "execution_count": 72,
   "id": "01bc9789-572b-47af-96df-b6b9eed2c39c",
   "metadata": {},
   "outputs": [
    {
     "name": "stdout",
     "output_type": "stream",
     "text": [
      "SVR(C=10)\n"
     ]
    }
   ],
   "source": [
    "best_model = grid_search_svr.best_estimator_\n",
    "print(best_model)"
   ]
  },
  {
   "cell_type": "code",
   "execution_count": 73,
   "id": "a5f14145-a513-4507-8ed0-a06734280ecb",
   "metadata": {},
   "outputs": [
    {
     "name": "stdout",
     "output_type": "stream",
     "text": [
      "DecisionTreeRegressor(max_depth=10, min_samples_split=10)\n"
     ]
    }
   ],
   "source": [
    "best_model = grid_search_dt.best_estimator_\n",
    "print(best_model)"
   ]
  },
  {
   "cell_type": "code",
   "execution_count": 74,
   "id": "cab99b40-c79f-440f-aaff-b651ec84cc6c",
   "metadata": {},
   "outputs": [
    {
     "name": "stdout",
     "output_type": "stream",
     "text": [
      "RandomForestRegressor(n_estimators=200)\n"
     ]
    }
   ],
   "source": [
    "best_model = grid_search_rf.best_estimator_\n",
    "print(best_model)"
   ]
  },
  {
   "cell_type": "code",
   "execution_count": 75,
   "id": "d906bc6b-21e6-41a2-b4a0-3fb0709eab1b",
   "metadata": {},
   "outputs": [],
   "source": [
    "Tunned_models = [SGDRegressor(alpha=0.01),SVR(C=10),DecisionTreeRegressor(max_depth=10, min_samples_split=10), RandomForestRegressor(max_depth=10, n_estimators=200)]"
   ]
  },
  {
   "cell_type": "code",
   "execution_count": 76,
   "id": "1c593cd4-3006-4092-b77d-4afe996029d2",
   "metadata": {},
   "outputs": [],
   "source": [
    "def generate_models_report_final(models,X_train_tr,Y_train,X_test_tr,Y_test):\n",
    "    width = 145\n",
    "    print(\"_\"*width)\n",
    "    title = \"|{:^60}|{:^20}|{:^20}|{:^20}|{:^20}|\"\n",
    "    print(title.format(\"Model Name\",\"Train Error\",\"Test Error\",\"Train Accuracy\",\"Test Accuracy\"))\n",
    "    print(\"_\"*width)\n",
    "    row = \"|{:^60}|{:^20.2f}|{:^20.2f}|{:^20.2f}|{:^20.2f}|\"\n",
    "    for model in models:\n",
    "        model.fit(X_train_tr,Y_train)\n",
    "        y_hat_train = model.predict(X_train_tr)\n",
    "        y_hat_test = model.predict(X_test_tr)\n",
    "        train_error = rmse(Y_train,y_hat_train)\n",
    "        test_error = rmse(Y_test,y_hat_test)\n",
    "        train_accuracy = r2_score(Y_train,y_hat_train)\n",
    "        test_accuracy = r2_score(Y_test,y_hat_test)\n",
    "        model_name = str(model)\n",
    "        print(row.format(model_name,train_error,test_error,train_accuracy*100,test_accuracy*100))\n",
    "        print(\"_\"*width)"
   ]
  },
  {
   "cell_type": "code",
   "execution_count": 77,
   "id": "5d458fbc-34a9-4e01-a65a-d349082993d6",
   "metadata": {},
   "outputs": [
    {
     "name": "stdout",
     "output_type": "stream",
     "text": [
      "_________________________________________________________________________________________________________________________________________________\n",
      "|                         Model Name                         |    Train Error     |     Test Error     |   Train Accuracy   |   Test Accuracy    |\n",
      "_________________________________________________________________________________________________________________________________________________\n",
      "|                  SGDRegressor(alpha=0.01)                  |        4.57        |        3.84        |       66.77        |       66.60        |\n",
      "_________________________________________________________________________________________________________________________________________________\n",
      "|                         SVR(C=10)                          |        3.89        |        3.68        |       75.92        |       69.33        |\n",
      "_________________________________________________________________________________________________________________________________________________\n",
      "| DecisionTreeRegressor(max_depth=10, min_samples_split=10)  |        2.01        |        5.04        |       93.59        |       42.54        |\n",
      "_________________________________________________________________________________________________________________________________________________\n",
      "|   RandomForestRegressor(max_depth=10, n_estimators=200)    |        1.58        |        4.05        |       96.01        |       62.78        |\n",
      "_________________________________________________________________________________________________________________________________________________\n"
     ]
    }
   ],
   "source": [
    "generate_models_report_final(Tunned_models,X_train_tr,Y_train,X_test_tr,Y_test)"
   ]
  },
  {
   "cell_type": "code",
   "execution_count": 78,
   "id": "73466b88-12ef-4c98-a86d-b4e7a4521444",
   "metadata": {},
   "outputs": [],
   "source": [
    "model = LinearRegression()"
   ]
  },
  {
   "cell_type": "code",
   "execution_count": 79,
   "id": "ee22e216-8f27-40b6-864d-a7e1934da24c",
   "metadata": {},
   "outputs": [
    {
     "data": {
      "text/html": [
       "<style>#sk-container-id-7 {color: black;background-color: white;}#sk-container-id-7 pre{padding: 0;}#sk-container-id-7 div.sk-toggleable {background-color: white;}#sk-container-id-7 label.sk-toggleable__label {cursor: pointer;display: block;width: 100%;margin-bottom: 0;padding: 0.3em;box-sizing: border-box;text-align: center;}#sk-container-id-7 label.sk-toggleable__label-arrow:before {content: \"▸\";float: left;margin-right: 0.25em;color: #696969;}#sk-container-id-7 label.sk-toggleable__label-arrow:hover:before {color: black;}#sk-container-id-7 div.sk-estimator:hover label.sk-toggleable__label-arrow:before {color: black;}#sk-container-id-7 div.sk-toggleable__content {max-height: 0;max-width: 0;overflow: hidden;text-align: left;background-color: #f0f8ff;}#sk-container-id-7 div.sk-toggleable__content pre {margin: 0.2em;color: black;border-radius: 0.25em;background-color: #f0f8ff;}#sk-container-id-7 input.sk-toggleable__control:checked~div.sk-toggleable__content {max-height: 200px;max-width: 100%;overflow: auto;}#sk-container-id-7 input.sk-toggleable__control:checked~label.sk-toggleable__label-arrow:before {content: \"▾\";}#sk-container-id-7 div.sk-estimator input.sk-toggleable__control:checked~label.sk-toggleable__label {background-color: #d4ebff;}#sk-container-id-7 div.sk-label input.sk-toggleable__control:checked~label.sk-toggleable__label {background-color: #d4ebff;}#sk-container-id-7 input.sk-hidden--visually {border: 0;clip: rect(1px 1px 1px 1px);clip: rect(1px, 1px, 1px, 1px);height: 1px;margin: -1px;overflow: hidden;padding: 0;position: absolute;width: 1px;}#sk-container-id-7 div.sk-estimator {font-family: monospace;background-color: #f0f8ff;border: 1px dotted black;border-radius: 0.25em;box-sizing: border-box;margin-bottom: 0.5em;}#sk-container-id-7 div.sk-estimator:hover {background-color: #d4ebff;}#sk-container-id-7 div.sk-parallel-item::after {content: \"\";width: 100%;border-bottom: 1px solid gray;flex-grow: 1;}#sk-container-id-7 div.sk-label:hover label.sk-toggleable__label {background-color: #d4ebff;}#sk-container-id-7 div.sk-serial::before {content: \"\";position: absolute;border-left: 1px solid gray;box-sizing: border-box;top: 0;bottom: 0;left: 50%;z-index: 0;}#sk-container-id-7 div.sk-serial {display: flex;flex-direction: column;align-items: center;background-color: white;padding-right: 0.2em;padding-left: 0.2em;position: relative;}#sk-container-id-7 div.sk-item {position: relative;z-index: 1;}#sk-container-id-7 div.sk-parallel {display: flex;align-items: stretch;justify-content: center;background-color: white;position: relative;}#sk-container-id-7 div.sk-item::before, #sk-container-id-7 div.sk-parallel-item::before {content: \"\";position: absolute;border-left: 1px solid gray;box-sizing: border-box;top: 0;bottom: 0;left: 50%;z-index: -1;}#sk-container-id-7 div.sk-parallel-item {display: flex;flex-direction: column;z-index: 1;position: relative;background-color: white;}#sk-container-id-7 div.sk-parallel-item:first-child::after {align-self: flex-end;width: 50%;}#sk-container-id-7 div.sk-parallel-item:last-child::after {align-self: flex-start;width: 50%;}#sk-container-id-7 div.sk-parallel-item:only-child::after {width: 0;}#sk-container-id-7 div.sk-dashed-wrapped {border: 1px dashed gray;margin: 0 0.4em 0.5em 0.4em;box-sizing: border-box;padding-bottom: 0.4em;background-color: white;}#sk-container-id-7 div.sk-label label {font-family: monospace;font-weight: bold;display: inline-block;line-height: 1.2em;}#sk-container-id-7 div.sk-label-container {text-align: center;}#sk-container-id-7 div.sk-container {/* jupyter's `normalize.less` sets `[hidden] { display: none; }` but bootstrap.min.css set `[hidden] { display: none !important; }` so we also need the `!important` here to be able to override the default hidden behavior on the sphinx rendered scikit-learn.org. See: https://github.com/scikit-learn/scikit-learn/issues/21755 */display: inline-block !important;position: relative;}#sk-container-id-7 div.sk-text-repr-fallback {display: none;}</style><div id=\"sk-container-id-7\" class=\"sk-top-container\"><div class=\"sk-text-repr-fallback\"><pre>LinearRegression()</pre><b>In a Jupyter environment, please rerun this cell to show the HTML representation or trust the notebook. <br />On GitHub, the HTML representation is unable to render, please try loading this page with nbviewer.org.</b></div><div class=\"sk-container\" hidden><div class=\"sk-item\"><div class=\"sk-estimator sk-toggleable\"><input class=\"sk-toggleable__control sk-hidden--visually\" id=\"sk-estimator-id-19\" type=\"checkbox\" checked><label for=\"sk-estimator-id-19\" class=\"sk-toggleable__label sk-toggleable__label-arrow\">LinearRegression</label><div class=\"sk-toggleable__content\"><pre>LinearRegression()</pre></div></div></div></div></div>"
      ],
      "text/plain": [
       "LinearRegression()"
      ]
     },
     "execution_count": 79,
     "metadata": {},
     "output_type": "execute_result"
    }
   ],
   "source": [
    "model.fit(X_train_tr,Y_train)"
   ]
  },
  {
   "cell_type": "code",
   "execution_count": 80,
   "id": "39589c0b-0790-4c72-8d63-dd49d8a70972",
   "metadata": {},
   "outputs": [
    {
     "name": "stdout",
     "output_type": "stream",
     "text": [
      "Training Accuracy: 71.92\n",
      "Testing Accuracy: 69.93\n"
     ]
    }
   ],
   "source": [
    "y_hat_train = model.predict(X_train_tr)\n",
    "y_hat_test = model.predict(X_test_tr)\n",
    "train_error = rmse(Y_train,y_hat_train)\n",
    "test_error = rmse(Y_test,y_hat_test)\n",
    "train_accuracy = r2_score(Y_train,y_hat_train)\n",
    "test_accuracy = r2_score(Y_test,y_hat_test)\n",
    "train_accuracy = train_accuracy*100\n",
    "test_accuracy = test_accuracy*100\n",
    "accuracy_train_str = \"{:.2f}\".format(train_accuracy)\n",
    "accuracy_test_str = \"{:.2f}\".format(test_accuracy)\n",
    "print(\"Training Accuracy:\",accuracy_train_str)\n",
    "print(\"Testing Accuracy:\",accuracy_test_str)"
   ]
  },
  {
   "cell_type": "code",
   "execution_count": 32,
   "id": "4193c996-f40c-4968-99db-d2b3cf85c3b9",
   "metadata": {},
   "outputs": [
    {
     "name": "stdin",
     "output_type": "stream",
     "text": [
      "Enter the number of cylinders of the car: 8\n"
     ]
    }
   ],
   "source": [
    "cylinders = int(input(\"Enter the number of cylinders of the car:\"))"
   ]
  },
  {
   "cell_type": "code",
   "execution_count": 33,
   "id": "c33f0688-d5ee-4d1f-b344-78089bf8657d",
   "metadata": {},
   "outputs": [
    {
     "name": "stdin",
     "output_type": "stream",
     "text": [
      "Enter the displacement of the car: 120.0\n"
     ]
    }
   ],
   "source": [
    "displacement = float(input(\"Enter the displacement of the car:\"))"
   ]
  },
  {
   "cell_type": "code",
   "execution_count": 34,
   "id": "df34d26e-436b-4d43-a0ad-5ac1cde4323a",
   "metadata": {},
   "outputs": [
    {
     "name": "stdin",
     "output_type": "stream",
     "text": [
      "Enter the horsepower of the car: 132.4\n"
     ]
    }
   ],
   "source": [
    "horsepower = float(input(\"Enter the horsepower of the car:\"))"
   ]
  },
  {
   "cell_type": "code",
   "execution_count": 35,
   "id": "44dcaca0-0d5f-4d47-91b7-6bc8abd3dcdf",
   "metadata": {},
   "outputs": [
    {
     "name": "stdin",
     "output_type": "stream",
     "text": [
      "Enter the weight of the car: 3000\n"
     ]
    }
   ],
   "source": [
    "weight = int(input(\"Enter the weight of the car:\"))"
   ]
  },
  {
   "cell_type": "code",
   "execution_count": 36,
   "id": "023c8eb3-b017-4701-bc79-cbfdf1ce21e7",
   "metadata": {},
   "outputs": [
    {
     "name": "stdin",
     "output_type": "stream",
     "text": [
      "Enter the acceleration of the car: 120.0\n"
     ]
    }
   ],
   "source": [
    "acceleration = float(input(\"Enter the acceleration of the car:\"))"
   ]
  },
  {
   "cell_type": "code",
   "execution_count": 37,
   "id": "9ea068f7-2fa0-472d-9b69-89bb2a61b2c3",
   "metadata": {},
   "outputs": [
    {
     "name": "stdin",
     "output_type": "stream",
     "text": [
      "Enter the model year of the car: 70\n"
     ]
    }
   ],
   "source": [
    "model_year = int(input(\"Enter the model year of the car:\"))"
   ]
  },
  {
   "cell_type": "code",
   "execution_count": 38,
   "id": "9e470aa2-ff2f-4d58-a51f-ce337929f0f0",
   "metadata": {},
   "outputs": [
    {
     "name": "stdin",
     "output_type": "stream",
     "text": [
      "Enter the origin of the car: europe\n"
     ]
    }
   ],
   "source": [
    "origin = input(\"Enter the origin of the car:\")\n"
   ]
  },
  {
   "cell_type": "code",
   "execution_count": 39,
   "id": "f94f386c-8780-40ed-b9fc-fba3a18a62a7",
   "metadata": {},
   "outputs": [
    {
     "name": "stdin",
     "output_type": "stream",
     "text": [
      "Enter the origin of the car: peugeot 504\n"
     ]
    }
   ],
   "source": [
    "name = input(\"Enter the origin of the car:\")"
   ]
  },
  {
   "cell_type": "code",
   "execution_count": 40,
   "id": "190168ea-955f-44bc-9c9f-01ab5a604795",
   "metadata": {},
   "outputs": [],
   "source": [
    "data = {\n",
    "    'cylinders ': [cylinders],\n",
    "    'displacement': [displacement],\n",
    "    'horsepower': [horsepower],\n",
    "    'weight': [weight],\n",
    "    'acceleration': [acceleration],\n",
    "    'model_year': [model_year],\n",
    "    'origin': [origin],\n",
    "    'name': [name]\n",
    "}\n"
   ]
  },
  {
   "cell_type": "code",
   "execution_count": 41,
   "id": "221654f6-4d7c-4546-8a02-3e783bbe6e6b",
   "metadata": {},
   "outputs": [],
   "source": [
    "df = pd.DataFrame(data)\n"
   ]
  },
  {
   "cell_type": "code",
   "execution_count": 43,
   "id": "b50c72fc-75dd-4e00-ab7a-82c1559729ca",
   "metadata": {},
   "outputs": [],
   "source": [
    "new_data = pipeline.transform(df)\n",
    "new_data_tr = pd.DataFrame(new_data,columns = output_cols)"
   ]
  },
  {
   "cell_type": "code",
   "execution_count": 81,
   "id": "f19edd64-febe-4929-bb67-84dc40f39a4d",
   "metadata": {},
   "outputs": [
    {
     "name": "stdout",
     "output_type": "stream",
     "text": [
      "Predicted Mileage:21.7Km/L\n"
     ]
    }
   ],
   "source": [
    "predicted_mileage = model.predict(new_data_tr)\n",
    "mileage_value = predicted_mileage[0]\n",
    "mileage = round(mileage_value, 2)\n",
    "print(f\"Predicted Mileage:{mileage}Km/L\")"
   ]
  },
  {
   "cell_type": "code",
   "execution_count": null,
   "id": "fef33533-eeb9-41b4-a457-5a77470d4d94",
   "metadata": {},
   "outputs": [],
   "source": []
  },
  {
   "cell_type": "code",
   "execution_count": null,
   "id": "839b7d55-3b0f-42f9-b94b-6025cb697ed6",
   "metadata": {},
   "outputs": [],
   "source": []
  }
 ],
 "metadata": {
  "kernelspec": {
   "display_name": "Python 3 (ipykernel)",
   "language": "python",
   "name": "python3"
  },
  "language_info": {
   "codemirror_mode": {
    "name": "ipython",
    "version": 3
   },
   "file_extension": ".py",
   "mimetype": "text/x-python",
   "name": "python",
   "nbconvert_exporter": "python",
   "pygments_lexer": "ipython3",
   "version": "3.11.7"
  }
 },
 "nbformat": 4,
 "nbformat_minor": 5
}
